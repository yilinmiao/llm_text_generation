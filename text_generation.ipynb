{
  "nbformat": 4,
  "nbformat_minor": 0,
  "metadata": {
    "colab": {
      "provenance": [],
      "gpuType": "T4",
      "mount_file_id": "1ida3joEegM6-O7pRBkc4bZPLRqj09C6B",
      "authorship_tag": "ABX9TyMSF/JsRKcZPLb8kcIAzq0u",
      "include_colab_link": true
    },
    "kernelspec": {
      "name": "python3",
      "display_name": "Python 3"
    },
    "language_info": {
      "name": "python"
    },
    "accelerator": "GPU",
    "widgets": {
      "application/vnd.jupyter.widget-state+json": {
        "6b73c9c2b54549f3a0923b5d09098ea5": {
          "model_module": "@jupyter-widgets/controls",
          "model_name": "HBoxModel",
          "model_module_version": "1.5.0",
          "state": {
            "_dom_classes": [],
            "_model_module": "@jupyter-widgets/controls",
            "_model_module_version": "1.5.0",
            "_model_name": "HBoxModel",
            "_view_count": null,
            "_view_module": "@jupyter-widgets/controls",
            "_view_module_version": "1.5.0",
            "_view_name": "HBoxView",
            "box_style": "",
            "children": [
              "IPY_MODEL_58aa828aa45f4ed6bdb7a21cb92abc8e",
              "IPY_MODEL_0104143bbbb749e7a0ee4392f2f72db0",
              "IPY_MODEL_acaef182cf1141b491ca01925b3fa3c5"
            ],
            "layout": "IPY_MODEL_4ff1f516272e4ced919a8c2d6ee38345"
          }
        },
        "58aa828aa45f4ed6bdb7a21cb92abc8e": {
          "model_module": "@jupyter-widgets/controls",
          "model_name": "HTMLModel",
          "model_module_version": "1.5.0",
          "state": {
            "_dom_classes": [],
            "_model_module": "@jupyter-widgets/controls",
            "_model_module_version": "1.5.0",
            "_model_name": "HTMLModel",
            "_view_count": null,
            "_view_module": "@jupyter-widgets/controls",
            "_view_module_version": "1.5.0",
            "_view_name": "HTMLView",
            "description": "",
            "description_tooltip": null,
            "layout": "IPY_MODEL_64bdb9320f5447d1ab4ee29064582299",
            "placeholder": "​",
            "style": "IPY_MODEL_6bb819a4aea24d059f4c1dc0a478696f",
            "value": "tokenizer_config.json: 100%"
          }
        },
        "0104143bbbb749e7a0ee4392f2f72db0": {
          "model_module": "@jupyter-widgets/controls",
          "model_name": "FloatProgressModel",
          "model_module_version": "1.5.0",
          "state": {
            "_dom_classes": [],
            "_model_module": "@jupyter-widgets/controls",
            "_model_module_version": "1.5.0",
            "_model_name": "FloatProgressModel",
            "_view_count": null,
            "_view_module": "@jupyter-widgets/controls",
            "_view_module_version": "1.5.0",
            "_view_name": "ProgressView",
            "bar_style": "success",
            "description": "",
            "description_tooltip": null,
            "layout": "IPY_MODEL_8cd1fe690444440b82fb9920f73f0e33",
            "max": 48,
            "min": 0,
            "orientation": "horizontal",
            "style": "IPY_MODEL_62537ab48cad489094c2e48cb773af1c",
            "value": 48
          }
        },
        "acaef182cf1141b491ca01925b3fa3c5": {
          "model_module": "@jupyter-widgets/controls",
          "model_name": "HTMLModel",
          "model_module_version": "1.5.0",
          "state": {
            "_dom_classes": [],
            "_model_module": "@jupyter-widgets/controls",
            "_model_module_version": "1.5.0",
            "_model_name": "HTMLModel",
            "_view_count": null,
            "_view_module": "@jupyter-widgets/controls",
            "_view_module_version": "1.5.0",
            "_view_name": "HTMLView",
            "description": "",
            "description_tooltip": null,
            "layout": "IPY_MODEL_97639b3226f441cd85d5b4baf1460407",
            "placeholder": "​",
            "style": "IPY_MODEL_0dcbc53918a4491cb5cd03327089d507",
            "value": " 48.0/48.0 [00:00&lt;00:00, 1.81kB/s]"
          }
        },
        "4ff1f516272e4ced919a8c2d6ee38345": {
          "model_module": "@jupyter-widgets/base",
          "model_name": "LayoutModel",
          "model_module_version": "1.2.0",
          "state": {
            "_model_module": "@jupyter-widgets/base",
            "_model_module_version": "1.2.0",
            "_model_name": "LayoutModel",
            "_view_count": null,
            "_view_module": "@jupyter-widgets/base",
            "_view_module_version": "1.2.0",
            "_view_name": "LayoutView",
            "align_content": null,
            "align_items": null,
            "align_self": null,
            "border": null,
            "bottom": null,
            "display": null,
            "flex": null,
            "flex_flow": null,
            "grid_area": null,
            "grid_auto_columns": null,
            "grid_auto_flow": null,
            "grid_auto_rows": null,
            "grid_column": null,
            "grid_gap": null,
            "grid_row": null,
            "grid_template_areas": null,
            "grid_template_columns": null,
            "grid_template_rows": null,
            "height": null,
            "justify_content": null,
            "justify_items": null,
            "left": null,
            "margin": null,
            "max_height": null,
            "max_width": null,
            "min_height": null,
            "min_width": null,
            "object_fit": null,
            "object_position": null,
            "order": null,
            "overflow": null,
            "overflow_x": null,
            "overflow_y": null,
            "padding": null,
            "right": null,
            "top": null,
            "visibility": null,
            "width": null
          }
        },
        "64bdb9320f5447d1ab4ee29064582299": {
          "model_module": "@jupyter-widgets/base",
          "model_name": "LayoutModel",
          "model_module_version": "1.2.0",
          "state": {
            "_model_module": "@jupyter-widgets/base",
            "_model_module_version": "1.2.0",
            "_model_name": "LayoutModel",
            "_view_count": null,
            "_view_module": "@jupyter-widgets/base",
            "_view_module_version": "1.2.0",
            "_view_name": "LayoutView",
            "align_content": null,
            "align_items": null,
            "align_self": null,
            "border": null,
            "bottom": null,
            "display": null,
            "flex": null,
            "flex_flow": null,
            "grid_area": null,
            "grid_auto_columns": null,
            "grid_auto_flow": null,
            "grid_auto_rows": null,
            "grid_column": null,
            "grid_gap": null,
            "grid_row": null,
            "grid_template_areas": null,
            "grid_template_columns": null,
            "grid_template_rows": null,
            "height": null,
            "justify_content": null,
            "justify_items": null,
            "left": null,
            "margin": null,
            "max_height": null,
            "max_width": null,
            "min_height": null,
            "min_width": null,
            "object_fit": null,
            "object_position": null,
            "order": null,
            "overflow": null,
            "overflow_x": null,
            "overflow_y": null,
            "padding": null,
            "right": null,
            "top": null,
            "visibility": null,
            "width": null
          }
        },
        "6bb819a4aea24d059f4c1dc0a478696f": {
          "model_module": "@jupyter-widgets/controls",
          "model_name": "DescriptionStyleModel",
          "model_module_version": "1.5.0",
          "state": {
            "_model_module": "@jupyter-widgets/controls",
            "_model_module_version": "1.5.0",
            "_model_name": "DescriptionStyleModel",
            "_view_count": null,
            "_view_module": "@jupyter-widgets/base",
            "_view_module_version": "1.2.0",
            "_view_name": "StyleView",
            "description_width": ""
          }
        },
        "8cd1fe690444440b82fb9920f73f0e33": {
          "model_module": "@jupyter-widgets/base",
          "model_name": "LayoutModel",
          "model_module_version": "1.2.0",
          "state": {
            "_model_module": "@jupyter-widgets/base",
            "_model_module_version": "1.2.0",
            "_model_name": "LayoutModel",
            "_view_count": null,
            "_view_module": "@jupyter-widgets/base",
            "_view_module_version": "1.2.0",
            "_view_name": "LayoutView",
            "align_content": null,
            "align_items": null,
            "align_self": null,
            "border": null,
            "bottom": null,
            "display": null,
            "flex": null,
            "flex_flow": null,
            "grid_area": null,
            "grid_auto_columns": null,
            "grid_auto_flow": null,
            "grid_auto_rows": null,
            "grid_column": null,
            "grid_gap": null,
            "grid_row": null,
            "grid_template_areas": null,
            "grid_template_columns": null,
            "grid_template_rows": null,
            "height": null,
            "justify_content": null,
            "justify_items": null,
            "left": null,
            "margin": null,
            "max_height": null,
            "max_width": null,
            "min_height": null,
            "min_width": null,
            "object_fit": null,
            "object_position": null,
            "order": null,
            "overflow": null,
            "overflow_x": null,
            "overflow_y": null,
            "padding": null,
            "right": null,
            "top": null,
            "visibility": null,
            "width": null
          }
        },
        "62537ab48cad489094c2e48cb773af1c": {
          "model_module": "@jupyter-widgets/controls",
          "model_name": "ProgressStyleModel",
          "model_module_version": "1.5.0",
          "state": {
            "_model_module": "@jupyter-widgets/controls",
            "_model_module_version": "1.5.0",
            "_model_name": "ProgressStyleModel",
            "_view_count": null,
            "_view_module": "@jupyter-widgets/base",
            "_view_module_version": "1.2.0",
            "_view_name": "StyleView",
            "bar_color": null,
            "description_width": ""
          }
        },
        "97639b3226f441cd85d5b4baf1460407": {
          "model_module": "@jupyter-widgets/base",
          "model_name": "LayoutModel",
          "model_module_version": "1.2.0",
          "state": {
            "_model_module": "@jupyter-widgets/base",
            "_model_module_version": "1.2.0",
            "_model_name": "LayoutModel",
            "_view_count": null,
            "_view_module": "@jupyter-widgets/base",
            "_view_module_version": "1.2.0",
            "_view_name": "LayoutView",
            "align_content": null,
            "align_items": null,
            "align_self": null,
            "border": null,
            "bottom": null,
            "display": null,
            "flex": null,
            "flex_flow": null,
            "grid_area": null,
            "grid_auto_columns": null,
            "grid_auto_flow": null,
            "grid_auto_rows": null,
            "grid_column": null,
            "grid_gap": null,
            "grid_row": null,
            "grid_template_areas": null,
            "grid_template_columns": null,
            "grid_template_rows": null,
            "height": null,
            "justify_content": null,
            "justify_items": null,
            "left": null,
            "margin": null,
            "max_height": null,
            "max_width": null,
            "min_height": null,
            "min_width": null,
            "object_fit": null,
            "object_position": null,
            "order": null,
            "overflow": null,
            "overflow_x": null,
            "overflow_y": null,
            "padding": null,
            "right": null,
            "top": null,
            "visibility": null,
            "width": null
          }
        },
        "0dcbc53918a4491cb5cd03327089d507": {
          "model_module": "@jupyter-widgets/controls",
          "model_name": "DescriptionStyleModel",
          "model_module_version": "1.5.0",
          "state": {
            "_model_module": "@jupyter-widgets/controls",
            "_model_module_version": "1.5.0",
            "_model_name": "DescriptionStyleModel",
            "_view_count": null,
            "_view_module": "@jupyter-widgets/base",
            "_view_module_version": "1.2.0",
            "_view_name": "StyleView",
            "description_width": ""
          }
        },
        "2a950ef008fd44c194c083e90d3b4d88": {
          "model_module": "@jupyter-widgets/controls",
          "model_name": "HBoxModel",
          "model_module_version": "1.5.0",
          "state": {
            "_dom_classes": [],
            "_model_module": "@jupyter-widgets/controls",
            "_model_module_version": "1.5.0",
            "_model_name": "HBoxModel",
            "_view_count": null,
            "_view_module": "@jupyter-widgets/controls",
            "_view_module_version": "1.5.0",
            "_view_name": "HBoxView",
            "box_style": "",
            "children": [
              "IPY_MODEL_debcc095bc1b4f6d8a7a84359ff78ae8",
              "IPY_MODEL_984ba2911027498a8c4029cbb1ae8daa",
              "IPY_MODEL_13cd3f3b160e4a4c9d8f9687ea14dab3"
            ],
            "layout": "IPY_MODEL_60d33820e28447788c47bb93a5f94be8"
          }
        },
        "debcc095bc1b4f6d8a7a84359ff78ae8": {
          "model_module": "@jupyter-widgets/controls",
          "model_name": "HTMLModel",
          "model_module_version": "1.5.0",
          "state": {
            "_dom_classes": [],
            "_model_module": "@jupyter-widgets/controls",
            "_model_module_version": "1.5.0",
            "_model_name": "HTMLModel",
            "_view_count": null,
            "_view_module": "@jupyter-widgets/controls",
            "_view_module_version": "1.5.0",
            "_view_name": "HTMLView",
            "description": "",
            "description_tooltip": null,
            "layout": "IPY_MODEL_9c10be7ba94d46cd8a95f135e9f3c5c9",
            "placeholder": "​",
            "style": "IPY_MODEL_bc3bdefbe16e45418bd088a06f31c804",
            "value": "config.json: 100%"
          }
        },
        "984ba2911027498a8c4029cbb1ae8daa": {
          "model_module": "@jupyter-widgets/controls",
          "model_name": "FloatProgressModel",
          "model_module_version": "1.5.0",
          "state": {
            "_dom_classes": [],
            "_model_module": "@jupyter-widgets/controls",
            "_model_module_version": "1.5.0",
            "_model_name": "FloatProgressModel",
            "_view_count": null,
            "_view_module": "@jupyter-widgets/controls",
            "_view_module_version": "1.5.0",
            "_view_name": "ProgressView",
            "bar_style": "success",
            "description": "",
            "description_tooltip": null,
            "layout": "IPY_MODEL_2ec3fdefe77b4f4fb7ccf1e105a70370",
            "max": 570,
            "min": 0,
            "orientation": "horizontal",
            "style": "IPY_MODEL_fda47a45695547e2ada0d9f5f91cfc41",
            "value": 570
          }
        },
        "13cd3f3b160e4a4c9d8f9687ea14dab3": {
          "model_module": "@jupyter-widgets/controls",
          "model_name": "HTMLModel",
          "model_module_version": "1.5.0",
          "state": {
            "_dom_classes": [],
            "_model_module": "@jupyter-widgets/controls",
            "_model_module_version": "1.5.0",
            "_model_name": "HTMLModel",
            "_view_count": null,
            "_view_module": "@jupyter-widgets/controls",
            "_view_module_version": "1.5.0",
            "_view_name": "HTMLView",
            "description": "",
            "description_tooltip": null,
            "layout": "IPY_MODEL_ed6500396ddb424bb88d29b9434a98eb",
            "placeholder": "​",
            "style": "IPY_MODEL_455e740f114340ad8d87797c4815d26a",
            "value": " 570/570 [00:00&lt;00:00, 14.0kB/s]"
          }
        },
        "60d33820e28447788c47bb93a5f94be8": {
          "model_module": "@jupyter-widgets/base",
          "model_name": "LayoutModel",
          "model_module_version": "1.2.0",
          "state": {
            "_model_module": "@jupyter-widgets/base",
            "_model_module_version": "1.2.0",
            "_model_name": "LayoutModel",
            "_view_count": null,
            "_view_module": "@jupyter-widgets/base",
            "_view_module_version": "1.2.0",
            "_view_name": "LayoutView",
            "align_content": null,
            "align_items": null,
            "align_self": null,
            "border": null,
            "bottom": null,
            "display": null,
            "flex": null,
            "flex_flow": null,
            "grid_area": null,
            "grid_auto_columns": null,
            "grid_auto_flow": null,
            "grid_auto_rows": null,
            "grid_column": null,
            "grid_gap": null,
            "grid_row": null,
            "grid_template_areas": null,
            "grid_template_columns": null,
            "grid_template_rows": null,
            "height": null,
            "justify_content": null,
            "justify_items": null,
            "left": null,
            "margin": null,
            "max_height": null,
            "max_width": null,
            "min_height": null,
            "min_width": null,
            "object_fit": null,
            "object_position": null,
            "order": null,
            "overflow": null,
            "overflow_x": null,
            "overflow_y": null,
            "padding": null,
            "right": null,
            "top": null,
            "visibility": null,
            "width": null
          }
        },
        "9c10be7ba94d46cd8a95f135e9f3c5c9": {
          "model_module": "@jupyter-widgets/base",
          "model_name": "LayoutModel",
          "model_module_version": "1.2.0",
          "state": {
            "_model_module": "@jupyter-widgets/base",
            "_model_module_version": "1.2.0",
            "_model_name": "LayoutModel",
            "_view_count": null,
            "_view_module": "@jupyter-widgets/base",
            "_view_module_version": "1.2.0",
            "_view_name": "LayoutView",
            "align_content": null,
            "align_items": null,
            "align_self": null,
            "border": null,
            "bottom": null,
            "display": null,
            "flex": null,
            "flex_flow": null,
            "grid_area": null,
            "grid_auto_columns": null,
            "grid_auto_flow": null,
            "grid_auto_rows": null,
            "grid_column": null,
            "grid_gap": null,
            "grid_row": null,
            "grid_template_areas": null,
            "grid_template_columns": null,
            "grid_template_rows": null,
            "height": null,
            "justify_content": null,
            "justify_items": null,
            "left": null,
            "margin": null,
            "max_height": null,
            "max_width": null,
            "min_height": null,
            "min_width": null,
            "object_fit": null,
            "object_position": null,
            "order": null,
            "overflow": null,
            "overflow_x": null,
            "overflow_y": null,
            "padding": null,
            "right": null,
            "top": null,
            "visibility": null,
            "width": null
          }
        },
        "bc3bdefbe16e45418bd088a06f31c804": {
          "model_module": "@jupyter-widgets/controls",
          "model_name": "DescriptionStyleModel",
          "model_module_version": "1.5.0",
          "state": {
            "_model_module": "@jupyter-widgets/controls",
            "_model_module_version": "1.5.0",
            "_model_name": "DescriptionStyleModel",
            "_view_count": null,
            "_view_module": "@jupyter-widgets/base",
            "_view_module_version": "1.2.0",
            "_view_name": "StyleView",
            "description_width": ""
          }
        },
        "2ec3fdefe77b4f4fb7ccf1e105a70370": {
          "model_module": "@jupyter-widgets/base",
          "model_name": "LayoutModel",
          "model_module_version": "1.2.0",
          "state": {
            "_model_module": "@jupyter-widgets/base",
            "_model_module_version": "1.2.0",
            "_model_name": "LayoutModel",
            "_view_count": null,
            "_view_module": "@jupyter-widgets/base",
            "_view_module_version": "1.2.0",
            "_view_name": "LayoutView",
            "align_content": null,
            "align_items": null,
            "align_self": null,
            "border": null,
            "bottom": null,
            "display": null,
            "flex": null,
            "flex_flow": null,
            "grid_area": null,
            "grid_auto_columns": null,
            "grid_auto_flow": null,
            "grid_auto_rows": null,
            "grid_column": null,
            "grid_gap": null,
            "grid_row": null,
            "grid_template_areas": null,
            "grid_template_columns": null,
            "grid_template_rows": null,
            "height": null,
            "justify_content": null,
            "justify_items": null,
            "left": null,
            "margin": null,
            "max_height": null,
            "max_width": null,
            "min_height": null,
            "min_width": null,
            "object_fit": null,
            "object_position": null,
            "order": null,
            "overflow": null,
            "overflow_x": null,
            "overflow_y": null,
            "padding": null,
            "right": null,
            "top": null,
            "visibility": null,
            "width": null
          }
        },
        "fda47a45695547e2ada0d9f5f91cfc41": {
          "model_module": "@jupyter-widgets/controls",
          "model_name": "ProgressStyleModel",
          "model_module_version": "1.5.0",
          "state": {
            "_model_module": "@jupyter-widgets/controls",
            "_model_module_version": "1.5.0",
            "_model_name": "ProgressStyleModel",
            "_view_count": null,
            "_view_module": "@jupyter-widgets/base",
            "_view_module_version": "1.2.0",
            "_view_name": "StyleView",
            "bar_color": null,
            "description_width": ""
          }
        },
        "ed6500396ddb424bb88d29b9434a98eb": {
          "model_module": "@jupyter-widgets/base",
          "model_name": "LayoutModel",
          "model_module_version": "1.2.0",
          "state": {
            "_model_module": "@jupyter-widgets/base",
            "_model_module_version": "1.2.0",
            "_model_name": "LayoutModel",
            "_view_count": null,
            "_view_module": "@jupyter-widgets/base",
            "_view_module_version": "1.2.0",
            "_view_name": "LayoutView",
            "align_content": null,
            "align_items": null,
            "align_self": null,
            "border": null,
            "bottom": null,
            "display": null,
            "flex": null,
            "flex_flow": null,
            "grid_area": null,
            "grid_auto_columns": null,
            "grid_auto_flow": null,
            "grid_auto_rows": null,
            "grid_column": null,
            "grid_gap": null,
            "grid_row": null,
            "grid_template_areas": null,
            "grid_template_columns": null,
            "grid_template_rows": null,
            "height": null,
            "justify_content": null,
            "justify_items": null,
            "left": null,
            "margin": null,
            "max_height": null,
            "max_width": null,
            "min_height": null,
            "min_width": null,
            "object_fit": null,
            "object_position": null,
            "order": null,
            "overflow": null,
            "overflow_x": null,
            "overflow_y": null,
            "padding": null,
            "right": null,
            "top": null,
            "visibility": null,
            "width": null
          }
        },
        "455e740f114340ad8d87797c4815d26a": {
          "model_module": "@jupyter-widgets/controls",
          "model_name": "DescriptionStyleModel",
          "model_module_version": "1.5.0",
          "state": {
            "_model_module": "@jupyter-widgets/controls",
            "_model_module_version": "1.5.0",
            "_model_name": "DescriptionStyleModel",
            "_view_count": null,
            "_view_module": "@jupyter-widgets/base",
            "_view_module_version": "1.2.0",
            "_view_name": "StyleView",
            "description_width": ""
          }
        },
        "c7b17b43352b466f8ff97f232a0e9b22": {
          "model_module": "@jupyter-widgets/controls",
          "model_name": "HBoxModel",
          "model_module_version": "1.5.0",
          "state": {
            "_dom_classes": [],
            "_model_module": "@jupyter-widgets/controls",
            "_model_module_version": "1.5.0",
            "_model_name": "HBoxModel",
            "_view_count": null,
            "_view_module": "@jupyter-widgets/controls",
            "_view_module_version": "1.5.0",
            "_view_name": "HBoxView",
            "box_style": "",
            "children": [
              "IPY_MODEL_064e550ca2d34d33a943099a8b93591f",
              "IPY_MODEL_ec3a8605510849248d51d395ee9538c6",
              "IPY_MODEL_ea04c15a2f2b4eeda8501b3a6e96e6bd"
            ],
            "layout": "IPY_MODEL_e1b9a73ad1ef40939c01caa5c4177fa4"
          }
        },
        "064e550ca2d34d33a943099a8b93591f": {
          "model_module": "@jupyter-widgets/controls",
          "model_name": "HTMLModel",
          "model_module_version": "1.5.0",
          "state": {
            "_dom_classes": [],
            "_model_module": "@jupyter-widgets/controls",
            "_model_module_version": "1.5.0",
            "_model_name": "HTMLModel",
            "_view_count": null,
            "_view_module": "@jupyter-widgets/controls",
            "_view_module_version": "1.5.0",
            "_view_name": "HTMLView",
            "description": "",
            "description_tooltip": null,
            "layout": "IPY_MODEL_278de81aeab347cdb5f6b701acf647af",
            "placeholder": "​",
            "style": "IPY_MODEL_068ec418f7c9484c855ce12112de45fe",
            "value": "vocab.txt: 100%"
          }
        },
        "ec3a8605510849248d51d395ee9538c6": {
          "model_module": "@jupyter-widgets/controls",
          "model_name": "FloatProgressModel",
          "model_module_version": "1.5.0",
          "state": {
            "_dom_classes": [],
            "_model_module": "@jupyter-widgets/controls",
            "_model_module_version": "1.5.0",
            "_model_name": "FloatProgressModel",
            "_view_count": null,
            "_view_module": "@jupyter-widgets/controls",
            "_view_module_version": "1.5.0",
            "_view_name": "ProgressView",
            "bar_style": "success",
            "description": "",
            "description_tooltip": null,
            "layout": "IPY_MODEL_ebd32ff08d654abdb646abed5ff4292e",
            "max": 231508,
            "min": 0,
            "orientation": "horizontal",
            "style": "IPY_MODEL_742a3c8bfbeb44a4b61474635a0f676d",
            "value": 231508
          }
        },
        "ea04c15a2f2b4eeda8501b3a6e96e6bd": {
          "model_module": "@jupyter-widgets/controls",
          "model_name": "HTMLModel",
          "model_module_version": "1.5.0",
          "state": {
            "_dom_classes": [],
            "_model_module": "@jupyter-widgets/controls",
            "_model_module_version": "1.5.0",
            "_model_name": "HTMLModel",
            "_view_count": null,
            "_view_module": "@jupyter-widgets/controls",
            "_view_module_version": "1.5.0",
            "_view_name": "HTMLView",
            "description": "",
            "description_tooltip": null,
            "layout": "IPY_MODEL_183db7a167724af7a72064e57fb00b76",
            "placeholder": "​",
            "style": "IPY_MODEL_5f4784e6e99142f3a1808f0a495dcdf5",
            "value": " 232k/232k [00:00&lt;00:00, 1.42MB/s]"
          }
        },
        "e1b9a73ad1ef40939c01caa5c4177fa4": {
          "model_module": "@jupyter-widgets/base",
          "model_name": "LayoutModel",
          "model_module_version": "1.2.0",
          "state": {
            "_model_module": "@jupyter-widgets/base",
            "_model_module_version": "1.2.0",
            "_model_name": "LayoutModel",
            "_view_count": null,
            "_view_module": "@jupyter-widgets/base",
            "_view_module_version": "1.2.0",
            "_view_name": "LayoutView",
            "align_content": null,
            "align_items": null,
            "align_self": null,
            "border": null,
            "bottom": null,
            "display": null,
            "flex": null,
            "flex_flow": null,
            "grid_area": null,
            "grid_auto_columns": null,
            "grid_auto_flow": null,
            "grid_auto_rows": null,
            "grid_column": null,
            "grid_gap": null,
            "grid_row": null,
            "grid_template_areas": null,
            "grid_template_columns": null,
            "grid_template_rows": null,
            "height": null,
            "justify_content": null,
            "justify_items": null,
            "left": null,
            "margin": null,
            "max_height": null,
            "max_width": null,
            "min_height": null,
            "min_width": null,
            "object_fit": null,
            "object_position": null,
            "order": null,
            "overflow": null,
            "overflow_x": null,
            "overflow_y": null,
            "padding": null,
            "right": null,
            "top": null,
            "visibility": null,
            "width": null
          }
        },
        "278de81aeab347cdb5f6b701acf647af": {
          "model_module": "@jupyter-widgets/base",
          "model_name": "LayoutModel",
          "model_module_version": "1.2.0",
          "state": {
            "_model_module": "@jupyter-widgets/base",
            "_model_module_version": "1.2.0",
            "_model_name": "LayoutModel",
            "_view_count": null,
            "_view_module": "@jupyter-widgets/base",
            "_view_module_version": "1.2.0",
            "_view_name": "LayoutView",
            "align_content": null,
            "align_items": null,
            "align_self": null,
            "border": null,
            "bottom": null,
            "display": null,
            "flex": null,
            "flex_flow": null,
            "grid_area": null,
            "grid_auto_columns": null,
            "grid_auto_flow": null,
            "grid_auto_rows": null,
            "grid_column": null,
            "grid_gap": null,
            "grid_row": null,
            "grid_template_areas": null,
            "grid_template_columns": null,
            "grid_template_rows": null,
            "height": null,
            "justify_content": null,
            "justify_items": null,
            "left": null,
            "margin": null,
            "max_height": null,
            "max_width": null,
            "min_height": null,
            "min_width": null,
            "object_fit": null,
            "object_position": null,
            "order": null,
            "overflow": null,
            "overflow_x": null,
            "overflow_y": null,
            "padding": null,
            "right": null,
            "top": null,
            "visibility": null,
            "width": null
          }
        },
        "068ec418f7c9484c855ce12112de45fe": {
          "model_module": "@jupyter-widgets/controls",
          "model_name": "DescriptionStyleModel",
          "model_module_version": "1.5.0",
          "state": {
            "_model_module": "@jupyter-widgets/controls",
            "_model_module_version": "1.5.0",
            "_model_name": "DescriptionStyleModel",
            "_view_count": null,
            "_view_module": "@jupyter-widgets/base",
            "_view_module_version": "1.2.0",
            "_view_name": "StyleView",
            "description_width": ""
          }
        },
        "ebd32ff08d654abdb646abed5ff4292e": {
          "model_module": "@jupyter-widgets/base",
          "model_name": "LayoutModel",
          "model_module_version": "1.2.0",
          "state": {
            "_model_module": "@jupyter-widgets/base",
            "_model_module_version": "1.2.0",
            "_model_name": "LayoutModel",
            "_view_count": null,
            "_view_module": "@jupyter-widgets/base",
            "_view_module_version": "1.2.0",
            "_view_name": "LayoutView",
            "align_content": null,
            "align_items": null,
            "align_self": null,
            "border": null,
            "bottom": null,
            "display": null,
            "flex": null,
            "flex_flow": null,
            "grid_area": null,
            "grid_auto_columns": null,
            "grid_auto_flow": null,
            "grid_auto_rows": null,
            "grid_column": null,
            "grid_gap": null,
            "grid_row": null,
            "grid_template_areas": null,
            "grid_template_columns": null,
            "grid_template_rows": null,
            "height": null,
            "justify_content": null,
            "justify_items": null,
            "left": null,
            "margin": null,
            "max_height": null,
            "max_width": null,
            "min_height": null,
            "min_width": null,
            "object_fit": null,
            "object_position": null,
            "order": null,
            "overflow": null,
            "overflow_x": null,
            "overflow_y": null,
            "padding": null,
            "right": null,
            "top": null,
            "visibility": null,
            "width": null
          }
        },
        "742a3c8bfbeb44a4b61474635a0f676d": {
          "model_module": "@jupyter-widgets/controls",
          "model_name": "ProgressStyleModel",
          "model_module_version": "1.5.0",
          "state": {
            "_model_module": "@jupyter-widgets/controls",
            "_model_module_version": "1.5.0",
            "_model_name": "ProgressStyleModel",
            "_view_count": null,
            "_view_module": "@jupyter-widgets/base",
            "_view_module_version": "1.2.0",
            "_view_name": "StyleView",
            "bar_color": null,
            "description_width": ""
          }
        },
        "183db7a167724af7a72064e57fb00b76": {
          "model_module": "@jupyter-widgets/base",
          "model_name": "LayoutModel",
          "model_module_version": "1.2.0",
          "state": {
            "_model_module": "@jupyter-widgets/base",
            "_model_module_version": "1.2.0",
            "_model_name": "LayoutModel",
            "_view_count": null,
            "_view_module": "@jupyter-widgets/base",
            "_view_module_version": "1.2.0",
            "_view_name": "LayoutView",
            "align_content": null,
            "align_items": null,
            "align_self": null,
            "border": null,
            "bottom": null,
            "display": null,
            "flex": null,
            "flex_flow": null,
            "grid_area": null,
            "grid_auto_columns": null,
            "grid_auto_flow": null,
            "grid_auto_rows": null,
            "grid_column": null,
            "grid_gap": null,
            "grid_row": null,
            "grid_template_areas": null,
            "grid_template_columns": null,
            "grid_template_rows": null,
            "height": null,
            "justify_content": null,
            "justify_items": null,
            "left": null,
            "margin": null,
            "max_height": null,
            "max_width": null,
            "min_height": null,
            "min_width": null,
            "object_fit": null,
            "object_position": null,
            "order": null,
            "overflow": null,
            "overflow_x": null,
            "overflow_y": null,
            "padding": null,
            "right": null,
            "top": null,
            "visibility": null,
            "width": null
          }
        },
        "5f4784e6e99142f3a1808f0a495dcdf5": {
          "model_module": "@jupyter-widgets/controls",
          "model_name": "DescriptionStyleModel",
          "model_module_version": "1.5.0",
          "state": {
            "_model_module": "@jupyter-widgets/controls",
            "_model_module_version": "1.5.0",
            "_model_name": "DescriptionStyleModel",
            "_view_count": null,
            "_view_module": "@jupyter-widgets/base",
            "_view_module_version": "1.2.0",
            "_view_name": "StyleView",
            "description_width": ""
          }
        },
        "f7189b35cd624123827f29a448a01701": {
          "model_module": "@jupyter-widgets/controls",
          "model_name": "HBoxModel",
          "model_module_version": "1.5.0",
          "state": {
            "_dom_classes": [],
            "_model_module": "@jupyter-widgets/controls",
            "_model_module_version": "1.5.0",
            "_model_name": "HBoxModel",
            "_view_count": null,
            "_view_module": "@jupyter-widgets/controls",
            "_view_module_version": "1.5.0",
            "_view_name": "HBoxView",
            "box_style": "",
            "children": [
              "IPY_MODEL_46c0919fc5d848f6a21045ae396ab1d8",
              "IPY_MODEL_90b39c4f066c4ae3a6a62b8b69ca25bc",
              "IPY_MODEL_716bc6a2f8674ee9a0cde279348e487d"
            ],
            "layout": "IPY_MODEL_69ce698d01374a01b980b98b7739ac22"
          }
        },
        "46c0919fc5d848f6a21045ae396ab1d8": {
          "model_module": "@jupyter-widgets/controls",
          "model_name": "HTMLModel",
          "model_module_version": "1.5.0",
          "state": {
            "_dom_classes": [],
            "_model_module": "@jupyter-widgets/controls",
            "_model_module_version": "1.5.0",
            "_model_name": "HTMLModel",
            "_view_count": null,
            "_view_module": "@jupyter-widgets/controls",
            "_view_module_version": "1.5.0",
            "_view_name": "HTMLView",
            "description": "",
            "description_tooltip": null,
            "layout": "IPY_MODEL_f23c58c9404041e6b26d34d35b0a83aa",
            "placeholder": "​",
            "style": "IPY_MODEL_b05d124738074777b8d26ceccf76b347",
            "value": "tokenizer.json: 100%"
          }
        },
        "90b39c4f066c4ae3a6a62b8b69ca25bc": {
          "model_module": "@jupyter-widgets/controls",
          "model_name": "FloatProgressModel",
          "model_module_version": "1.5.0",
          "state": {
            "_dom_classes": [],
            "_model_module": "@jupyter-widgets/controls",
            "_model_module_version": "1.5.0",
            "_model_name": "FloatProgressModel",
            "_view_count": null,
            "_view_module": "@jupyter-widgets/controls",
            "_view_module_version": "1.5.0",
            "_view_name": "ProgressView",
            "bar_style": "success",
            "description": "",
            "description_tooltip": null,
            "layout": "IPY_MODEL_29e45982580c4c188296f3ecf3fafb51",
            "max": 466062,
            "min": 0,
            "orientation": "horizontal",
            "style": "IPY_MODEL_dc881509b20a48d4b154cf1ac2477f61",
            "value": 466062
          }
        },
        "716bc6a2f8674ee9a0cde279348e487d": {
          "model_module": "@jupyter-widgets/controls",
          "model_name": "HTMLModel",
          "model_module_version": "1.5.0",
          "state": {
            "_dom_classes": [],
            "_model_module": "@jupyter-widgets/controls",
            "_model_module_version": "1.5.0",
            "_model_name": "HTMLModel",
            "_view_count": null,
            "_view_module": "@jupyter-widgets/controls",
            "_view_module_version": "1.5.0",
            "_view_name": "HTMLView",
            "description": "",
            "description_tooltip": null,
            "layout": "IPY_MODEL_842171fd456a4d85ab45f31038342da1",
            "placeholder": "​",
            "style": "IPY_MODEL_59dc396fb355435cb293726a5c8ee2d0",
            "value": " 466k/466k [00:00&lt;00:00, 2.82MB/s]"
          }
        },
        "69ce698d01374a01b980b98b7739ac22": {
          "model_module": "@jupyter-widgets/base",
          "model_name": "LayoutModel",
          "model_module_version": "1.2.0",
          "state": {
            "_model_module": "@jupyter-widgets/base",
            "_model_module_version": "1.2.0",
            "_model_name": "LayoutModel",
            "_view_count": null,
            "_view_module": "@jupyter-widgets/base",
            "_view_module_version": "1.2.0",
            "_view_name": "LayoutView",
            "align_content": null,
            "align_items": null,
            "align_self": null,
            "border": null,
            "bottom": null,
            "display": null,
            "flex": null,
            "flex_flow": null,
            "grid_area": null,
            "grid_auto_columns": null,
            "grid_auto_flow": null,
            "grid_auto_rows": null,
            "grid_column": null,
            "grid_gap": null,
            "grid_row": null,
            "grid_template_areas": null,
            "grid_template_columns": null,
            "grid_template_rows": null,
            "height": null,
            "justify_content": null,
            "justify_items": null,
            "left": null,
            "margin": null,
            "max_height": null,
            "max_width": null,
            "min_height": null,
            "min_width": null,
            "object_fit": null,
            "object_position": null,
            "order": null,
            "overflow": null,
            "overflow_x": null,
            "overflow_y": null,
            "padding": null,
            "right": null,
            "top": null,
            "visibility": null,
            "width": null
          }
        },
        "f23c58c9404041e6b26d34d35b0a83aa": {
          "model_module": "@jupyter-widgets/base",
          "model_name": "LayoutModel",
          "model_module_version": "1.2.0",
          "state": {
            "_model_module": "@jupyter-widgets/base",
            "_model_module_version": "1.2.0",
            "_model_name": "LayoutModel",
            "_view_count": null,
            "_view_module": "@jupyter-widgets/base",
            "_view_module_version": "1.2.0",
            "_view_name": "LayoutView",
            "align_content": null,
            "align_items": null,
            "align_self": null,
            "border": null,
            "bottom": null,
            "display": null,
            "flex": null,
            "flex_flow": null,
            "grid_area": null,
            "grid_auto_columns": null,
            "grid_auto_flow": null,
            "grid_auto_rows": null,
            "grid_column": null,
            "grid_gap": null,
            "grid_row": null,
            "grid_template_areas": null,
            "grid_template_columns": null,
            "grid_template_rows": null,
            "height": null,
            "justify_content": null,
            "justify_items": null,
            "left": null,
            "margin": null,
            "max_height": null,
            "max_width": null,
            "min_height": null,
            "min_width": null,
            "object_fit": null,
            "object_position": null,
            "order": null,
            "overflow": null,
            "overflow_x": null,
            "overflow_y": null,
            "padding": null,
            "right": null,
            "top": null,
            "visibility": null,
            "width": null
          }
        },
        "b05d124738074777b8d26ceccf76b347": {
          "model_module": "@jupyter-widgets/controls",
          "model_name": "DescriptionStyleModel",
          "model_module_version": "1.5.0",
          "state": {
            "_model_module": "@jupyter-widgets/controls",
            "_model_module_version": "1.5.0",
            "_model_name": "DescriptionStyleModel",
            "_view_count": null,
            "_view_module": "@jupyter-widgets/base",
            "_view_module_version": "1.2.0",
            "_view_name": "StyleView",
            "description_width": ""
          }
        },
        "29e45982580c4c188296f3ecf3fafb51": {
          "model_module": "@jupyter-widgets/base",
          "model_name": "LayoutModel",
          "model_module_version": "1.2.0",
          "state": {
            "_model_module": "@jupyter-widgets/base",
            "_model_module_version": "1.2.0",
            "_model_name": "LayoutModel",
            "_view_count": null,
            "_view_module": "@jupyter-widgets/base",
            "_view_module_version": "1.2.0",
            "_view_name": "LayoutView",
            "align_content": null,
            "align_items": null,
            "align_self": null,
            "border": null,
            "bottom": null,
            "display": null,
            "flex": null,
            "flex_flow": null,
            "grid_area": null,
            "grid_auto_columns": null,
            "grid_auto_flow": null,
            "grid_auto_rows": null,
            "grid_column": null,
            "grid_gap": null,
            "grid_row": null,
            "grid_template_areas": null,
            "grid_template_columns": null,
            "grid_template_rows": null,
            "height": null,
            "justify_content": null,
            "justify_items": null,
            "left": null,
            "margin": null,
            "max_height": null,
            "max_width": null,
            "min_height": null,
            "min_width": null,
            "object_fit": null,
            "object_position": null,
            "order": null,
            "overflow": null,
            "overflow_x": null,
            "overflow_y": null,
            "padding": null,
            "right": null,
            "top": null,
            "visibility": null,
            "width": null
          }
        },
        "dc881509b20a48d4b154cf1ac2477f61": {
          "model_module": "@jupyter-widgets/controls",
          "model_name": "ProgressStyleModel",
          "model_module_version": "1.5.0",
          "state": {
            "_model_module": "@jupyter-widgets/controls",
            "_model_module_version": "1.5.0",
            "_model_name": "ProgressStyleModel",
            "_view_count": null,
            "_view_module": "@jupyter-widgets/base",
            "_view_module_version": "1.2.0",
            "_view_name": "StyleView",
            "bar_color": null,
            "description_width": ""
          }
        },
        "842171fd456a4d85ab45f31038342da1": {
          "model_module": "@jupyter-widgets/base",
          "model_name": "LayoutModel",
          "model_module_version": "1.2.0",
          "state": {
            "_model_module": "@jupyter-widgets/base",
            "_model_module_version": "1.2.0",
            "_model_name": "LayoutModel",
            "_view_count": null,
            "_view_module": "@jupyter-widgets/base",
            "_view_module_version": "1.2.0",
            "_view_name": "LayoutView",
            "align_content": null,
            "align_items": null,
            "align_self": null,
            "border": null,
            "bottom": null,
            "display": null,
            "flex": null,
            "flex_flow": null,
            "grid_area": null,
            "grid_auto_columns": null,
            "grid_auto_flow": null,
            "grid_auto_rows": null,
            "grid_column": null,
            "grid_gap": null,
            "grid_row": null,
            "grid_template_areas": null,
            "grid_template_columns": null,
            "grid_template_rows": null,
            "height": null,
            "justify_content": null,
            "justify_items": null,
            "left": null,
            "margin": null,
            "max_height": null,
            "max_width": null,
            "min_height": null,
            "min_width": null,
            "object_fit": null,
            "object_position": null,
            "order": null,
            "overflow": null,
            "overflow_x": null,
            "overflow_y": null,
            "padding": null,
            "right": null,
            "top": null,
            "visibility": null,
            "width": null
          }
        },
        "59dc396fb355435cb293726a5c8ee2d0": {
          "model_module": "@jupyter-widgets/controls",
          "model_name": "DescriptionStyleModel",
          "model_module_version": "1.5.0",
          "state": {
            "_model_module": "@jupyter-widgets/controls",
            "_model_module_version": "1.5.0",
            "_model_name": "DescriptionStyleModel",
            "_view_count": null,
            "_view_module": "@jupyter-widgets/base",
            "_view_module_version": "1.2.0",
            "_view_name": "StyleView",
            "description_width": ""
          }
        }
      }
    }
  },
  "cells": [
    {
      "cell_type": "markdown",
      "metadata": {
        "id": "view-in-github",
        "colab_type": "text"
      },
      "source": [
        "<a href=\"https://colab.research.google.com/github/yilinmiao/llm_text_generation/blob/main/text_generation.ipynb\" target=\"_parent\"><img src=\"https://colab.research.google.com/assets/colab-badge.svg\" alt=\"Open In Colab\"/></a>"
      ]
    },
    {
      "cell_type": "code",
      "execution_count": 1,
      "metadata": {
        "id": "CVTymn8CI8pq"
      },
      "outputs": [],
      "source": [
        "from __future__ import annotations\n",
        "\n",
        "import torch\n",
        "import torch.nn as nn\n",
        "import torch.optim as optim\n",
        "from torch.utils.data import DataLoader\n",
        "from transformers import AutoTokenizer\n",
        "\n",
        "from helper import (\n",
        "    start_time,\n",
        "    time_since,\n",
        "    ShakespeareDataset,\n",
        "    TokenMapping,\n",
        "    build_model,\n",
        "    next_token,\n",
        "    # Character-based helpers\n",
        "    encode_text,\n",
        "    # Subword-based helpers\n",
        "    encode_text_from_tokenizer,\n",
        "    tokenize_text_from_tokenizer,\n",
        ")"
      ]
    },
    {
      "cell_type": "code",
      "source": [
        "# Deterministic training\n",
        "torch.manual_seed(0)\n",
        "\n",
        "# Attempt GPU; if not, stay on CPU\n",
        "device = torch.device('cuda:0' if torch.cuda.is_available() else 'cpu')\n",
        "print(device)"
      ],
      "metadata": {
        "id": "a44bfZAwJQu2",
        "colab": {
          "base_uri": "https://localhost:8080/"
        },
        "outputId": "afa00279-26fc-40ac-c545-0ac3a2047cb2"
      },
      "execution_count": 2,
      "outputs": [
        {
          "output_type": "stream",
          "name": "stdout",
          "text": [
            "cuda:0\n"
          ]
        }
      ]
    },
    {
      "cell_type": "markdown",
      "source": [
        "# Load Data"
      ],
      "metadata": {
        "id": "6099AEldJSh1"
      }
    },
    {
      "cell_type": "code",
      "source": [
        "# Reduced data to make it manageable for smaller systems\n",
        "DATA_FILE: str = 'data/shakespeare_small.txt'\n",
        "\n",
        "with open(DATA_FILE, 'r') as data_file:\n",
        "    raw_text = data_file.read()\n",
        "\n",
        "print(f'Number of characters in text file: {len(raw_text):,}')"
      ],
      "metadata": {
        "id": "n_NgGtH2JWFt",
        "colab": {
          "base_uri": "https://localhost:8080/"
        },
        "outputId": "f899ed00-1d9f-4092-a857-d51eed278e6a"
      },
      "execution_count": 3,
      "outputs": [
        {
          "output_type": "stream",
          "name": "stdout",
          "text": [
            "Number of characters in text file: 50,085\n"
          ]
        }
      ]
    },
    {
      "cell_type": "markdown",
      "source": [
        "# Character-Based Text Generation\n",
        "\n",
        "The first model you'll build for text generation will use character-based\n",
        "tokens.\n",
        "\n",
        "Each token will be a single character from the text and the model will learn\n",
        "to predict the next character (a token).\n",
        "\n",
        "To generate text, the model will take in a new string,\n",
        "character-by-character, and then generate a new likely character based on the\n",
        "past input. Then the model will take into account that new character and\n",
        "generate the following character and so on and so on until the model has\n",
        "produced a set number of characters."
      ],
      "metadata": {
        "id": "cO5sVJqGJ_m_"
      }
    },
    {
      "cell_type": "markdown",
      "source": [
        "## Encode Text into Integer Tokens"
      ],
      "metadata": {
        "id": "i-mUNHHyKB2M"
      }
    },
    {
      "cell_type": "markdown",
      "source": [
        "### Normalization"
      ],
      "metadata": {
        "id": "NIkDhrWsKCWd"
      }
    },
    {
      "cell_type": "code",
      "source": [
        "def normalize_text(text: str) -> str:\n",
        "    # COMPLETE: Normalize incoming text; can be multiple actions\n",
        "    # Just lowercase letters\n",
        "    normalized_text = text.lower()\n",
        "    # Keeping punctuation & other characters\n",
        "    return normalized_text"
      ],
      "metadata": {
        "id": "_YEUsPQqJxa6"
      },
      "execution_count": 4,
      "outputs": []
    },
    {
      "cell_type": "code",
      "source": [
        "# TEST: Is your text normalized the way you expected?\n",
        "# Only the first 500 characters of the original text\n",
        "normalized_text = normalize_text(raw_text[:500])\n",
        "print(normalized_text)"
      ],
      "metadata": {
        "id": "4B2b89A7KGPr",
        "colab": {
          "base_uri": "https://localhost:8080/"
        },
        "outputId": "dc27de47-dd3e-4d17-9fa7-94f5a2ea8d17"
      },
      "execution_count": 5,
      "outputs": [
        {
          "output_type": "stream",
          "name": "stdout",
          "text": [
            "first citizen:\n",
            "before we proceed any further, hear me speak.\n",
            "\n",
            "all:\n",
            "speak, speak.\n",
            "\n",
            "first citizen:\n",
            "you are all resolved rather to die than to famish?\n",
            "\n",
            "all:\n",
            "resolved. resolved.\n",
            "\n",
            "first citizen:\n",
            "first, you know caius marcius is chief enemy to the people.\n",
            "\n",
            "all:\n",
            "we know't, we know't.\n",
            "\n",
            "first citizen:\n",
            "let us kill him, and we'll have corn at our own price.\n",
            "is't a verdict?\n",
            "\n",
            "all:\n",
            "no more talking on't; let it be done: away, away!\n",
            "\n",
            "second citizen:\n",
            "one word, good citizens.\n",
            "\n",
            "first citizen:\n",
            "we are accounted poor\n"
          ]
        }
      ]
    },
    {
      "cell_type": "markdown",
      "source": [
        "### Pretokenization"
      ],
      "metadata": {
        "id": "V70Q0EfsKL-l"
      }
    },
    {
      "cell_type": "code",
      "source": [
        "def pretokenize_text(text: str) -> str | list[str]:\n",
        "    # COMPLETE: Pretokenize normalized text into character strings\n",
        "    smaller_pieces = [char for char in text]\n",
        "    return smaller_pieces"
      ],
      "metadata": {
        "id": "c-VTL8e2KMk-"
      },
      "execution_count": 6,
      "outputs": []
    },
    {
      "cell_type": "code",
      "source": [
        "# TEST: Is your (normalized) text pretokenized the way you expected?\n",
        "# Only the first 500 characters of the original text\n",
        "pretokenized_text = pretokenize_text(normalized_text)\n",
        "print(pretokenized_text)"
      ],
      "metadata": {
        "id": "H9ziVNZsKPCP",
        "colab": {
          "base_uri": "https://localhost:8080/"
        },
        "outputId": "eced88ee-f4f1-44b5-94dd-9ea4110387a4"
      },
      "execution_count": 7,
      "outputs": [
        {
          "output_type": "stream",
          "name": "stdout",
          "text": [
            "['f', 'i', 'r', 's', 't', ' ', 'c', 'i', 't', 'i', 'z', 'e', 'n', ':', '\\n', 'b', 'e', 'f', 'o', 'r', 'e', ' ', 'w', 'e', ' ', 'p', 'r', 'o', 'c', 'e', 'e', 'd', ' ', 'a', 'n', 'y', ' ', 'f', 'u', 'r', 't', 'h', 'e', 'r', ',', ' ', 'h', 'e', 'a', 'r', ' ', 'm', 'e', ' ', 's', 'p', 'e', 'a', 'k', '.', '\\n', '\\n', 'a', 'l', 'l', ':', '\\n', 's', 'p', 'e', 'a', 'k', ',', ' ', 's', 'p', 'e', 'a', 'k', '.', '\\n', '\\n', 'f', 'i', 'r', 's', 't', ' ', 'c', 'i', 't', 'i', 'z', 'e', 'n', ':', '\\n', 'y', 'o', 'u', ' ', 'a', 'r', 'e', ' ', 'a', 'l', 'l', ' ', 'r', 'e', 's', 'o', 'l', 'v', 'e', 'd', ' ', 'r', 'a', 't', 'h', 'e', 'r', ' ', 't', 'o', ' ', 'd', 'i', 'e', ' ', 't', 'h', 'a', 'n', ' ', 't', 'o', ' ', 'f', 'a', 'm', 'i', 's', 'h', '?', '\\n', '\\n', 'a', 'l', 'l', ':', '\\n', 'r', 'e', 's', 'o', 'l', 'v', 'e', 'd', '.', ' ', 'r', 'e', 's', 'o', 'l', 'v', 'e', 'd', '.', '\\n', '\\n', 'f', 'i', 'r', 's', 't', ' ', 'c', 'i', 't', 'i', 'z', 'e', 'n', ':', '\\n', 'f', 'i', 'r', 's', 't', ',', ' ', 'y', 'o', 'u', ' ', 'k', 'n', 'o', 'w', ' ', 'c', 'a', 'i', 'u', 's', ' ', 'm', 'a', 'r', 'c', 'i', 'u', 's', ' ', 'i', 's', ' ', 'c', 'h', 'i', 'e', 'f', ' ', 'e', 'n', 'e', 'm', 'y', ' ', 't', 'o', ' ', 't', 'h', 'e', ' ', 'p', 'e', 'o', 'p', 'l', 'e', '.', '\\n', '\\n', 'a', 'l', 'l', ':', '\\n', 'w', 'e', ' ', 'k', 'n', 'o', 'w', \"'\", 't', ',', ' ', 'w', 'e', ' ', 'k', 'n', 'o', 'w', \"'\", 't', '.', '\\n', '\\n', 'f', 'i', 'r', 's', 't', ' ', 'c', 'i', 't', 'i', 'z', 'e', 'n', ':', '\\n', 'l', 'e', 't', ' ', 'u', 's', ' ', 'k', 'i', 'l', 'l', ' ', 'h', 'i', 'm', ',', ' ', 'a', 'n', 'd', ' ', 'w', 'e', \"'\", 'l', 'l', ' ', 'h', 'a', 'v', 'e', ' ', 'c', 'o', 'r', 'n', ' ', 'a', 't', ' ', 'o', 'u', 'r', ' ', 'o', 'w', 'n', ' ', 'p', 'r', 'i', 'c', 'e', '.', '\\n', 'i', 's', \"'\", 't', ' ', 'a', ' ', 'v', 'e', 'r', 'd', 'i', 'c', 't', '?', '\\n', '\\n', 'a', 'l', 'l', ':', '\\n', 'n', 'o', ' ', 'm', 'o', 'r', 'e', ' ', 't', 'a', 'l', 'k', 'i', 'n', 'g', ' ', 'o', 'n', \"'\", 't', ';', ' ', 'l', 'e', 't', ' ', 'i', 't', ' ', 'b', 'e', ' ', 'd', 'o', 'n', 'e', ':', ' ', 'a', 'w', 'a', 'y', ',', ' ', 'a', 'w', 'a', 'y', '!', '\\n', '\\n', 's', 'e', 'c', 'o', 'n', 'd', ' ', 'c', 'i', 't', 'i', 'z', 'e', 'n', ':', '\\n', 'o', 'n', 'e', ' ', 'w', 'o', 'r', 'd', ',', ' ', 'g', 'o', 'o', 'd', ' ', 'c', 'i', 't', 'i', 'z', 'e', 'n', 's', '.', '\\n', '\\n', 'f', 'i', 'r', 's', 't', ' ', 'c', 'i', 't', 'i', 'z', 'e', 'n', ':', '\\n', 'w', 'e', ' ', 'a', 'r', 'e', ' ', 'a', 'c', 'c', 'o', 'u', 'n', 't', 'e', 'd', ' ', 'p', 'o', 'o', 'r']\n"
          ]
        }
      ]
    },
    {
      "cell_type": "markdown",
      "source": [
        "### Tokenize"
      ],
      "metadata": {
        "id": "b2xx1AxCKRIB"
      }
    },
    {
      "cell_type": "code",
      "source": [
        "# Combine normalization and pretokenization steps\n",
        "def tokenize_text(text: str) -> str | list[str]:\n",
        "    normalized_text: str = normalize_text(text)\n",
        "    pretokenized_text: str | list[str] = pretokenize_text(normalized_text)\n",
        "    # Characters are already tokens so pretokenized text is already tokenized\n",
        "    tokenized_text = pretokenized_text\n",
        "    return tokenized_text"
      ],
      "metadata": {
        "id": "mtYU1I_eKSo4"
      },
      "execution_count": 8,
      "outputs": []
    },
    {
      "cell_type": "code",
      "source": [
        "# TEST: Is your tokenized text the way you expected?\n",
        "tokenized_text = tokenize_text(raw_text[:500])\n",
        "print(tokenized_text)"
      ],
      "metadata": {
        "id": "ubesRd6TKUNP",
        "colab": {
          "base_uri": "https://localhost:8080/"
        },
        "outputId": "2353f80e-e3cd-494c-8a16-7e5bc10f8cce"
      },
      "execution_count": 9,
      "outputs": [
        {
          "output_type": "stream",
          "name": "stdout",
          "text": [
            "['f', 'i', 'r', 's', 't', ' ', 'c', 'i', 't', 'i', 'z', 'e', 'n', ':', '\\n', 'b', 'e', 'f', 'o', 'r', 'e', ' ', 'w', 'e', ' ', 'p', 'r', 'o', 'c', 'e', 'e', 'd', ' ', 'a', 'n', 'y', ' ', 'f', 'u', 'r', 't', 'h', 'e', 'r', ',', ' ', 'h', 'e', 'a', 'r', ' ', 'm', 'e', ' ', 's', 'p', 'e', 'a', 'k', '.', '\\n', '\\n', 'a', 'l', 'l', ':', '\\n', 's', 'p', 'e', 'a', 'k', ',', ' ', 's', 'p', 'e', 'a', 'k', '.', '\\n', '\\n', 'f', 'i', 'r', 's', 't', ' ', 'c', 'i', 't', 'i', 'z', 'e', 'n', ':', '\\n', 'y', 'o', 'u', ' ', 'a', 'r', 'e', ' ', 'a', 'l', 'l', ' ', 'r', 'e', 's', 'o', 'l', 'v', 'e', 'd', ' ', 'r', 'a', 't', 'h', 'e', 'r', ' ', 't', 'o', ' ', 'd', 'i', 'e', ' ', 't', 'h', 'a', 'n', ' ', 't', 'o', ' ', 'f', 'a', 'm', 'i', 's', 'h', '?', '\\n', '\\n', 'a', 'l', 'l', ':', '\\n', 'r', 'e', 's', 'o', 'l', 'v', 'e', 'd', '.', ' ', 'r', 'e', 's', 'o', 'l', 'v', 'e', 'd', '.', '\\n', '\\n', 'f', 'i', 'r', 's', 't', ' ', 'c', 'i', 't', 'i', 'z', 'e', 'n', ':', '\\n', 'f', 'i', 'r', 's', 't', ',', ' ', 'y', 'o', 'u', ' ', 'k', 'n', 'o', 'w', ' ', 'c', 'a', 'i', 'u', 's', ' ', 'm', 'a', 'r', 'c', 'i', 'u', 's', ' ', 'i', 's', ' ', 'c', 'h', 'i', 'e', 'f', ' ', 'e', 'n', 'e', 'm', 'y', ' ', 't', 'o', ' ', 't', 'h', 'e', ' ', 'p', 'e', 'o', 'p', 'l', 'e', '.', '\\n', '\\n', 'a', 'l', 'l', ':', '\\n', 'w', 'e', ' ', 'k', 'n', 'o', 'w', \"'\", 't', ',', ' ', 'w', 'e', ' ', 'k', 'n', 'o', 'w', \"'\", 't', '.', '\\n', '\\n', 'f', 'i', 'r', 's', 't', ' ', 'c', 'i', 't', 'i', 'z', 'e', 'n', ':', '\\n', 'l', 'e', 't', ' ', 'u', 's', ' ', 'k', 'i', 'l', 'l', ' ', 'h', 'i', 'm', ',', ' ', 'a', 'n', 'd', ' ', 'w', 'e', \"'\", 'l', 'l', ' ', 'h', 'a', 'v', 'e', ' ', 'c', 'o', 'r', 'n', ' ', 'a', 't', ' ', 'o', 'u', 'r', ' ', 'o', 'w', 'n', ' ', 'p', 'r', 'i', 'c', 'e', '.', '\\n', 'i', 's', \"'\", 't', ' ', 'a', ' ', 'v', 'e', 'r', 'd', 'i', 'c', 't', '?', '\\n', '\\n', 'a', 'l', 'l', ':', '\\n', 'n', 'o', ' ', 'm', 'o', 'r', 'e', ' ', 't', 'a', 'l', 'k', 'i', 'n', 'g', ' ', 'o', 'n', \"'\", 't', ';', ' ', 'l', 'e', 't', ' ', 'i', 't', ' ', 'b', 'e', ' ', 'd', 'o', 'n', 'e', ':', ' ', 'a', 'w', 'a', 'y', ',', ' ', 'a', 'w', 'a', 'y', '!', '\\n', '\\n', 's', 'e', 'c', 'o', 'n', 'd', ' ', 'c', 'i', 't', 'i', 'z', 'e', 'n', ':', '\\n', 'o', 'n', 'e', ' ', 'w', 'o', 'r', 'd', ',', ' ', 'g', 'o', 'o', 'd', ' ', 'c', 'i', 't', 'i', 'z', 'e', 'n', 's', '.', '\\n', '\\n', 'f', 'i', 'r', 's', 't', ' ', 'c', 'i', 't', 'i', 'z', 'e', 'n', ':', '\\n', 'w', 'e', ' ', 'a', 'r', 'e', ' ', 'a', 'c', 'c', 'o', 'u', 'n', 't', 'e', 'd', ' ', 'p', 'o', 'o', 'r']\n"
          ]
        }
      ]
    },
    {
      "cell_type": "markdown",
      "source": [
        "### Postprocessing\n",
        "\n",
        "We'll skip postprocessing since we don't have any special tokens we want to\n",
        "consider for our task here."
      ],
      "metadata": {
        "id": "FBYpfO7JKXb_"
      }
    },
    {
      "cell_type": "markdown",
      "source": [
        "### Encode (Tokens → Integer IDs)\n",
        "\n",
        "We have `encode_text()` from our helper module that can encode our text based on\n",
        "our tokenization process from our created `tokenize_text()` function.\n",
        "\n",
        "This will also provide us with `character_mapping`, an object that we can use to\n",
        "map our tokens back and forth from strings to integer IDs."
      ],
      "metadata": {
        "id": "4VA0bFN1KZCd"
      }
    },
    {
      "cell_type": "code",
      "source": [
        "encoded_text, character_mapping = encode_text(raw_text, tokenize_text)"
      ],
      "metadata": {
        "id": "xwaRf1d-KWb0"
      },
      "execution_count": 10,
      "outputs": []
    },
    {
      "cell_type": "markdown",
      "source": [
        "## Prepare Dataset"
      ],
      "metadata": {
        "id": "loCKtc5bKfyQ"
      }
    },
    {
      "cell_type": "code",
      "source": [
        "n_tokens = character_mapping.n_tokens\n",
        "dataset_size = len(encoded_text)\n",
        "print(f'Size of dataset: {dataset_size:,} characters')"
      ],
      "metadata": {
        "id": "FRJt-medKgQb",
        "colab": {
          "base_uri": "https://localhost:8080/"
        },
        "outputId": "d1f03d2a-53e6-44d6-afad-2104862ced07"
      },
      "execution_count": 11,
      "outputs": [
        {
          "output_type": "stream",
          "name": "stdout",
          "text": [
            "Size of dataset: 50,086 characters\n"
          ]
        }
      ]
    },
    {
      "cell_type": "code",
      "source": [
        "# Defining sequence length that will be taken in at a time by our model\n",
        "sequence_length = 32 # Number of characters\n",
        "batch_size = 32\n",
        "\n",
        "train_dataset = ShakespeareDataset(encoded_text, sequence_length)\n",
        "train_loader = DataLoader(\n",
        "    train_dataset,\n",
        "    shuffle=False, # Ensure deterministic training\n",
        "    batch_size=batch_size,\n",
        ")"
      ],
      "metadata": {
        "id": "H0Wuczl9KiuB"
      },
      "execution_count": 12,
      "outputs": []
    },
    {
      "cell_type": "markdown",
      "source": [
        "## Define Model\n",
        "\n",
        "We'll provide a defined model today, but this could be a step that you would\n",
        "modify and experiment in other NLP projects you'll do."
      ],
      "metadata": {
        "id": "vyHjb-IzKmH-"
      }
    },
    {
      "cell_type": "code",
      "source": [
        "# Defining the model to be trained and generate text with\n",
        "model = build_model(n_tokens)\n",
        "model.to(device)\n",
        "criterion = nn.CrossEntropyLoss()\n",
        "optimizer = optim.Adam(model.parameters())"
      ],
      "metadata": {
        "id": "t_vjZcyyKljP"
      },
      "execution_count": 13,
      "outputs": []
    },
    {
      "cell_type": "markdown",
      "source": [
        "## Define Text Generation\n",
        "\n",
        "The `generate_text_by_char()` function will use your tokenizer and NLP model to\n",
        "generate new text token-by-token (character-by-character in this case) by taking\n",
        "in the input text and token sampling parameters.\n",
        "\n",
        "We can use temperature and top-k sampling to adjust the \"creativeness\" of the\n",
        "generated text.\n",
        "\n",
        "We also pass in the `num_chars` parameter to tell the function how many tokens\n",
        "(characters in this case) to generate."
      ],
      "metadata": {
        "id": "-HiADGGyKu2-"
      }
    },
    {
      "cell_type": "code",
      "source": [
        "def generate_text_by_char(\n",
        "    input_str: str,\n",
        "    model,\n",
        "    token_mapping: TokenMapping = character_mapping,\n",
        "    num_chars: int = 100,\n",
        "    temperature: float = 1.0,\n",
        "    topk: int | None = None,\n",
        ") -> str:\n",
        "    # Uses your character-based tokenizer\n",
        "    tokenized_text: list[str] = tokenize_text(input_str)\n",
        "    # Generates token-by-token and creates a list of those tokens\n",
        "    generated_tokens = []\n",
        "    for _ in range(num_chars):\n",
        "        # Uses the input text and generated text (so far) to get next token\n",
        "        new_char = next_token(\n",
        "            tokenized_text=(tokenized_text + generated_tokens),\n",
        "            model=model,\n",
        "            token_mapping=token_mapping,\n",
        "            # Temperature & top-k sampling used in determining the next token\n",
        "            temperature=temperature,\n",
        "            topk=topk,\n",
        "            device=device,\n",
        "        )\n",
        "        generated_tokens.append(new_char)\n",
        "    # Returns input string plus the full generated string (of generated tokens)\n",
        "    full_text = ''.join(tokenized_text + generated_tokens)\n",
        "    return full_text"
      ],
      "metadata": {
        "id": "I7fK6gSMKllj"
      },
      "execution_count": 14,
      "outputs": []
    },
    {
      "cell_type": "markdown",
      "source": [
        "## Train Model\n",
        "\n",
        "At this point, the model has not been trained so the code below will train the\n",
        "NLP model that will be used to generate new text.\n",
        "\n",
        "The model will take in the text data (broken by tokens by our character-based\n",
        "tokenizer) and attempt to predict the next token. Over time, the model should\n",
        "hopefully get better in predicting the next token (given the previous text).\n",
        "\n",
        "To help us visualize how the model is training, at the end of every epoch, we\n",
        "generate text using the `TEST_PHRASE` with the improving model."
      ],
      "metadata": {
        "id": "AA_qStpSLkFp"
      }
    },
    {
      "cell_type": "code",
      "source": [
        "TEST_PHRASE = 'To be or not to be'\n",
        "# Use more epochs if not CPU device\n",
        "epochs = 5 if device == 'cpu' else 25\n",
        "\n",
        "start = start_time()\n",
        "for epoch in range(epochs):\n",
        "    # Set model into \"training mode\"\n",
        "    model.train()\n",
        "    total_loss = 0\n",
        "    for X_batch, y_batch in train_loader:\n",
        "        optimizer.zero_grad()\n",
        "        output = model(X_batch.to(device))\n",
        "        loss = criterion(output.transpose(1, 2), y_batch.to(device))\n",
        "        loss.backward()\n",
        "        optimizer.step()\n",
        "        total_loss += loss.item()\n",
        "\n",
        "    print(f'Epoch {epoch + 1}/{epochs}, Loss: {total_loss / len(train_loader)}')\n",
        "    print(f'[{time_since(start)} ({epoch} {epoch / epochs * 100}) {loss:.4f}]')\n",
        "    print('-'*72)\n",
        "    gen_output = generate_text_by_char(\n",
        "        input_str=TEST_PHRASE,\n",
        "        model=model,\n",
        "        num_chars=100,\n",
        "    )\n",
        "    print(gen_output)"
      ],
      "metadata": {
        "id": "jbEcmigPKko7",
        "colab": {
          "base_uri": "https://localhost:8080/"
        },
        "outputId": "136b1a6b-41b1-47df-ca38-1062840095ea"
      },
      "execution_count": 15,
      "outputs": [
        {
          "output_type": "stream",
          "name": "stdout",
          "text": [
            "Epoch 1/25, Loss: 2.530167181499469\n",
            "[00m 5.4s (0 0.0) 2.1864]\n",
            "------------------------------------------------------------------------\n",
            "to be or not to bee and vevenptury havir\n",
            "if:\n",
            "comums mey:\n",
            "oucidy\n",
            " irastr mavif,\n",
            "met to gow ow, it!citisere-TOKEN_NOT_FOUNDctim thongi\n",
            "Epoch 2/25, Loss: 2.181258380908174\n",
            "[00m 11.5s (1 4.0) 1.9870]\n",
            "------------------------------------------------------------------------\n",
            "to be or not to bem fiese have an, ato shind thai daraster harfe uss peiind aftorfer;\n",
            "hins, inius:\n",
            "ine deart haet of o\n",
            "Epoch 3/25, Loss: 2.078537772257869\n",
            "[00m 16.2s (2 8.0) 1.8850]\n",
            "------------------------------------------------------------------------\n",
            "to be or not to bevis sinsnores\n",
            "in coak foar.\n",
            "there cont rye sel cot cim andp, gry llott hal and aliendry no; pirse mo\n",
            "Epoch 4/25, Loss: 2.0192134881552795\n",
            "[00m 21.2s (3 12.0) 1.8197]\n",
            "------------------------------------------------------------------------\n",
            "to be or not to be thies and the bericenyly he 'ut nopher iaret; do ltim uncius:iatrris sotry cofa'linius:\n",
            "olonger pat\n",
            "Epoch 5/25, Loss: 1.9766919510052228\n",
            "[00m 26.4s (4 16.0) 1.7796]\n",
            "------------------------------------------------------------------------\n",
            "to be or not to beint heserusss art\n",
            "the, hond ashing\n",
            "prechak covtod. foud.\n",
            "\n",
            "ises\n",
            "the pratity, aloves,\n",
            "the mo:\n",
            "such wor\n",
            "Epoch 6/25, Loss: 1.9433630113022777\n",
            "[00m 30.9s (5 20.0) 1.7546]\n",
            "------------------------------------------------------------------------\n",
            "to be or not to bet turem he dow, will wrupuds:\n",
            "susther ofece you no afder o'd-ldreg tro gatendy!\n",
            "\n",
            "mart dailice? 'tour\n",
            "Epoch 7/25, Loss: 1.9164595640505464\n",
            "[00m 37.5s (6 24.0) 1.7339]\n",
            "------------------------------------------------------------------------\n",
            "to be or not to beir the suces comes our fice\n",
            "lese he bald withis the grution the depons atpliantry vrat, your for ed \n",
            "Epoch 8/25, Loss: 1.894374805669815\n",
            "[00m 42.3s (7 28.000000000000004) 1.7176]\n",
            "------------------------------------------------------------------------\n",
            "to be or not to bet horeto, wond hond he,\n",
            "plard you parscore bean:\n",
            "yet him no love poven here shownow?\n",
            "hact troth be s\n",
            "Epoch 9/25, Loss: 1.8757073707093066\n",
            "[00m 47.2s (8 32.0) 1.7068]\n",
            "------------------------------------------------------------------------\n",
            "to be or not to be t.\n",
            "\n",
            "first ito wheleqee\n",
            "you a\n",
            "knor hubleoger therie for, their huth im,\n",
            "apcond deest nor eas.\n",
            "\n",
            "menen\n",
            "Epoch 10/25, Loss: 1.859731403478799\n",
            "[00m 52.7s (9 36.0) 1.6993]\n",
            "------------------------------------------------------------------------\n",
            "to be or not to be\n",
            "fort sheren otty dreed betor exves ditizens\n",
            "to jindes, grtith on to see,\n",
            "forth temegs semarg\n",
            "and hi\n",
            "Epoch 11/25, Loss: 1.8458594116540001\n",
            "[00m 57.5s (10 40.0) 1.6941]\n",
            "------------------------------------------------------------------------\n",
            "to be or not to beirs, anded be gon bus unders pites, lovore and titcusn gook suctighon. hin\n",
            "at me of my esterang and \n",
            "Epoch 12/25, Loss: 1.8337552537552464\n",
            "[01m 3.0s (11 44.0) 1.6896]\n",
            "------------------------------------------------------------------------\n",
            "to be or not to beserot, terul this knower for so the, of wratel.\n",
            "\n",
            "bul worf know at again broughll fith\n",
            "thopvatu, the \n",
            "Epoch 13/25, Loss: 1.82306989183822\n",
            "[01m 7.9s (12 48.0) 1.6847]\n",
            "------------------------------------------------------------------------\n",
            "to be or not to belkgol!\n",
            "\n",
            "distrects plakat thiceady gright and pet and his and their prerbe cas mite qepore ofry, pret\n",
            "Epoch 14/25, Loss: 1.813555604581254\n",
            "[01m 12.6s (13 52.0) 1.6784]\n",
            "------------------------------------------------------------------------\n",
            "to be or not to betortus, 'thich its foel hent to s'le\n",
            "it could\n",
            "cootle\n",
            "you suceng.\n",
            "\n",
            "maved the masing in: iwtl. powf th\n",
            "Epoch 15/25, Loss: 1.805094622575437\n",
            "[01m 18.3s (14 56.00000000000001) 1.6712]\n",
            "------------------------------------------------------------------------\n",
            "to be or not to be coumby\n",
            "thear blusted.\n",
            "\n",
            "merpromus: whong.\n",
            "\n",
            "coriolia:\n",
            "i tike thetcen a cam, to with ofrest speeced yo\n",
            "Epoch 16/25, Loss: 1.7974912339506057\n",
            "[01m 23.0s (15 60.0) 1.6645]\n",
            "------------------------------------------------------------------------\n",
            "to be or not to becenue, bumswell fraderssy too ssim'sy, this all:\n",
            "\n",
            "flitare yet peath\n",
            "ind poor dof too secrone the wig\n",
            "Epoch 17/25, Loss: 1.7906102810423976\n",
            "[01m 28.0s (16 64.0) 1.6590]\n",
            "------------------------------------------------------------------------\n",
            "to be or not to be no' ear the apy the vourse\n",
            "of and and flay olal this therhe praven it this heporter;, is by trummar\n",
            "Epoch 18/25, Loss: 1.7843517746026523\n",
            "[01m 33.4s (17 68.0) 1.6552]\n",
            "------------------------------------------------------------------------\n",
            "to be or not to be the ladk so with, come;\n",
            "ficeind tipopticificore to oarticia\n",
            "ricinily of, when an\n",
            "and the mus cordit\n",
            "Epoch 19/25, Loss: 1.778625182450389\n",
            "[01m 38.1s (18 72.0) 1.6521]\n",
            "------------------------------------------------------------------------\n",
            "to be or not to besteed their solia:\n",
            "the and,\n",
            "in withes seleld that his at hond inged prithink\n",
            "for at hargutius home\n",
            "d\n",
            "Epoch 20/25, Loss: 1.7733723968743516\n",
            "[01m 43.5s (19 76.0) 1.6488]\n",
            "------------------------------------------------------------------------\n",
            "to be or not to bent thiunst could he its, a knone,\n",
            "him so foar knot prodle.\n",
            "\n",
            "knot; thund eveeds letientitiuld a mome \n",
            "Epoch 21/25, Loss: 1.7685355579510285\n",
            "[01m 48.3s (20 80.0) 1.6451]\n",
            "------------------------------------------------------------------------\n",
            "to be or not to besest word\n",
            "to entwetb, of his.\n",
            "\n",
            "marcius, no sird: to spetter time 'twight velrugition. for, no woulf \n",
            "Epoch 22/25, Loss: 1.764052320364565\n",
            "[01m 52.8s (21 84.0) 1.6418]\n",
            "------------------------------------------------------------------------\n",
            "to be or not to be\n",
            "and rome?\n",
            "\n",
            "nand shoutty'd of beir the coriinius:\n",
            "hate have sever staths to the to tes. one thoid\n",
            "sh\n",
            "Epoch 23/25, Loss: 1.7598620751414435\n",
            "[01m 58.4s (22 88.0) 1.6392]\n",
            "------------------------------------------------------------------------\n",
            "to be or not to be he husool.\n",
            "\n",
            "laty\n",
            "hove\n",
            "a to kfigh, by see poif trop ono mad teint to preve merefold\n",
            "to make plater e\n",
            "Epoch 24/25, Loss: 1.7559759461460784\n",
            "[02m 2.9s (23 92.0) 1.6372]\n",
            "------------------------------------------------------------------------\n",
            "to be or not to bed juted,\n",
            "ifs to stimns\n",
            "at har.\n",
            "\n",
            "mareslen we a praver, furfum,\n",
            "i\n",
            "for robmy. the be o' the thees diemy\n",
            "Epoch 25/25, Loss: 1.752377708499043\n",
            "[02m 7.7s (24 96.0) 1.6360]\n",
            "------------------------------------------------------------------------\n",
            "to be or not to bet they sconblew here of and fare, curpen the margith,\n",
            "i be heebe\n",
            "and as:\n",
            "theref not fon, wolsul of h\n"
          ]
        }
      ]
    },
    {
      "cell_type": "markdown",
      "source": [
        "## Generate Text\n",
        "\n",
        "Now that the model has been trained, go ahead and observe how it performs!\n",
        "\n",
        "Try adjusting the different sampling methods using the `temperature` and `topk`\n",
        "parameters on the same input string to see the differences.\n",
        "\n",
        "You might also try different phrases as well as how many tokens (`num_chars`) to\n",
        "generate and observe how it does."
      ],
      "metadata": {
        "id": "B8Pv8T82OgHB"
      }
    },
    {
      "cell_type": "code",
      "source": [
        "output = generate_text_by_char(\n",
        "    input_str='To be or not to be',\n",
        "    model=model,\n",
        "    num_chars=100,\n",
        "    temperature=1.0,\n",
        "    topk=None,\n",
        ")\n",
        "print(output)"
      ],
      "metadata": {
        "id": "7v8qJL7nL1tm",
        "colab": {
          "base_uri": "https://localhost:8080/"
        },
        "outputId": "6ef91c12-9f9c-4b1f-ae68-8df6f0e3e3cc"
      },
      "execution_count": 16,
      "outputs": [
        {
          "output_type": "stream",
          "name": "stdout",
          "text": [
            "to be or not to being to the go put all scosius!\n",
            "it you will end bery are here of their as your canstegred\n",
            "for huld ba\n"
          ]
        }
      ]
    },
    {
      "cell_type": "markdown",
      "source": [
        "# Subword Text Generation\n",
        "\n",
        "The next model you'll build will use subword-tokenization instead of\n",
        "characters-based token to train a model and ultimately generate new text\n",
        "token-by-token.\n",
        "\n",
        "Although this could be done by creating your own tokenizer, you'll use\n",
        "Hugging Face to use a pretrained tokenize to tokenizer the data.\n",
        "\n",
        "After training the model with subword tokens,\n",
        "the model will take in a new string, token-by-token, and then generate a new\n",
        "token (subword).\n",
        "The model will continue producing new subword tokens based on the input text\n",
        "and already produced tokens until a set number of tokens have been generated."
      ],
      "metadata": {
        "id": "yhJ8dun_OrUK"
      }
    },
    {
      "cell_type": "markdown",
      "source": [
        "## Encode Text into Integer Tokens"
      ],
      "metadata": {
        "id": "_lWy0rDDOtZd"
      }
    },
    {
      "cell_type": "markdown",
      "source": [
        "### Choosing a Tokenizer\n",
        "\n",
        "> NOTE:\n",
        ">\n",
        "> You can load another model outside of these choices but the model\n",
        "> will have to be downloaded and may or may not be effective.\n",
        ">\n",
        "> If you'd like to explore more, here's a link to you might want to start with\n",
        "> of different available pretrained models on Hugging Face:\n",
        "> https://huggingface.co/models?pipeline_tag=text-generation"
      ],
      "metadata": {
        "id": "uhorar3NO1gO"
      }
    },
    {
      "cell_type": "code",
      "source": [
        "\n",
        "# COMPLETE: Choose a pretrained tokenizer to use:\n",
        "\n",
        "# Docs: https://huggingface.co/xlm-roberta-base\n",
        "# model_name = 'xlm-roberta-base'\n",
        "# DOCS: https://huggingface.co/bert-base-cased\n",
        "# model_name = 'bert-base-cased'\n",
        "# DOCS: https://huggingface.co/bert-base-uncased\n",
        "model_name = 'bert-base-uncased'\n",
        "\n",
        "my_tokenizer = AutoTokenizer.from_pretrained(\n",
        "    model_name,\n",
        ")"
      ],
      "metadata": {
        "colab": {
          "base_uri": "https://localhost:8080/",
          "height": 272,
          "referenced_widgets": [
            "6b73c9c2b54549f3a0923b5d09098ea5",
            "58aa828aa45f4ed6bdb7a21cb92abc8e",
            "0104143bbbb749e7a0ee4392f2f72db0",
            "acaef182cf1141b491ca01925b3fa3c5",
            "4ff1f516272e4ced919a8c2d6ee38345",
            "64bdb9320f5447d1ab4ee29064582299",
            "6bb819a4aea24d059f4c1dc0a478696f",
            "8cd1fe690444440b82fb9920f73f0e33",
            "62537ab48cad489094c2e48cb773af1c",
            "97639b3226f441cd85d5b4baf1460407",
            "0dcbc53918a4491cb5cd03327089d507",
            "2a950ef008fd44c194c083e90d3b4d88",
            "debcc095bc1b4f6d8a7a84359ff78ae8",
            "984ba2911027498a8c4029cbb1ae8daa",
            "13cd3f3b160e4a4c9d8f9687ea14dab3",
            "60d33820e28447788c47bb93a5f94be8",
            "9c10be7ba94d46cd8a95f135e9f3c5c9",
            "bc3bdefbe16e45418bd088a06f31c804",
            "2ec3fdefe77b4f4fb7ccf1e105a70370",
            "fda47a45695547e2ada0d9f5f91cfc41",
            "ed6500396ddb424bb88d29b9434a98eb",
            "455e740f114340ad8d87797c4815d26a",
            "c7b17b43352b466f8ff97f232a0e9b22",
            "064e550ca2d34d33a943099a8b93591f",
            "ec3a8605510849248d51d395ee9538c6",
            "ea04c15a2f2b4eeda8501b3a6e96e6bd",
            "e1b9a73ad1ef40939c01caa5c4177fa4",
            "278de81aeab347cdb5f6b701acf647af",
            "068ec418f7c9484c855ce12112de45fe",
            "ebd32ff08d654abdb646abed5ff4292e",
            "742a3c8bfbeb44a4b61474635a0f676d",
            "183db7a167724af7a72064e57fb00b76",
            "5f4784e6e99142f3a1808f0a495dcdf5",
            "f7189b35cd624123827f29a448a01701",
            "46c0919fc5d848f6a21045ae396ab1d8",
            "90b39c4f066c4ae3a6a62b8b69ca25bc",
            "716bc6a2f8674ee9a0cde279348e487d",
            "69ce698d01374a01b980b98b7739ac22",
            "f23c58c9404041e6b26d34d35b0a83aa",
            "b05d124738074777b8d26ceccf76b347",
            "29e45982580c4c188296f3ecf3fafb51",
            "dc881509b20a48d4b154cf1ac2477f61",
            "842171fd456a4d85ab45f31038342da1",
            "59dc396fb355435cb293726a5c8ee2d0"
          ]
        },
        "id": "Jb3KnPTqO9Ln",
        "outputId": "925a6da3-06b7-4957-d030-d58570d34c64"
      },
      "execution_count": 17,
      "outputs": [
        {
          "output_type": "stream",
          "name": "stderr",
          "text": [
            "/usr/local/lib/python3.11/dist-packages/huggingface_hub/utils/_auth.py:94: UserWarning: \n",
            "The secret `HF_TOKEN` does not exist in your Colab secrets.\n",
            "To authenticate with the Hugging Face Hub, create a token in your settings tab (https://huggingface.co/settings/tokens), set it as secret in your Google Colab and restart your session.\n",
            "You will be able to reuse this secret in all of your notebooks.\n",
            "Please note that authentication is recommended but still optional to access public models or datasets.\n",
            "  warnings.warn(\n"
          ]
        },
        {
          "output_type": "display_data",
          "data": {
            "text/plain": [
              "tokenizer_config.json:   0%|          | 0.00/48.0 [00:00<?, ?B/s]"
            ],
            "application/vnd.jupyter.widget-view+json": {
              "version_major": 2,
              "version_minor": 0,
              "model_id": "6b73c9c2b54549f3a0923b5d09098ea5"
            }
          },
          "metadata": {}
        },
        {
          "output_type": "display_data",
          "data": {
            "text/plain": [
              "config.json:   0%|          | 0.00/570 [00:00<?, ?B/s]"
            ],
            "application/vnd.jupyter.widget-view+json": {
              "version_major": 2,
              "version_minor": 0,
              "model_id": "2a950ef008fd44c194c083e90d3b4d88"
            }
          },
          "metadata": {}
        },
        {
          "output_type": "display_data",
          "data": {
            "text/plain": [
              "vocab.txt:   0%|          | 0.00/232k [00:00<?, ?B/s]"
            ],
            "application/vnd.jupyter.widget-view+json": {
              "version_major": 2,
              "version_minor": 0,
              "model_id": "c7b17b43352b466f8ff97f232a0e9b22"
            }
          },
          "metadata": {}
        },
        {
          "output_type": "display_data",
          "data": {
            "text/plain": [
              "tokenizer.json:   0%|          | 0.00/466k [00:00<?, ?B/s]"
            ],
            "application/vnd.jupyter.widget-view+json": {
              "version_major": 2,
              "version_minor": 0,
              "model_id": "f7189b35cd624123827f29a448a01701"
            }
          },
          "metadata": {}
        }
      ]
    },
    {
      "cell_type": "markdown",
      "source": [
        "### Encode (Tokens → Integer IDs)\n",
        "\n",
        "We have `encode_text_from_tokenizer()` from our helper module that can encode\n",
        "our text based on our tokenization process from our tokenizer `my_tokenizer`.\n",
        "\n",
        "This will also provide us with `token_mapping`, an object that we can use to\n",
        "map our tokens back and forth from strings to integer IDs."
      ],
      "metadata": {
        "id": "WJV-tZPePAVe"
      }
    },
    {
      "cell_type": "code",
      "source": [
        "encoded_text, token_mapping = encode_text_from_tokenizer(\n",
        "    text=raw_text,\n",
        "    tokenizer=my_tokenizer,\n",
        ")"
      ],
      "metadata": {
        "id": "SrUZritGOr1z"
      },
      "execution_count": 18,
      "outputs": []
    },
    {
      "cell_type": "markdown",
      "source": [
        "## Prepare Dataset"
      ],
      "metadata": {
        "id": "3LCnfftgPl3E"
      }
    },
    {
      "cell_type": "code",
      "source": [
        "n_tokens = token_mapping.n_tokens\n",
        "dataset_size = len(encoded_text)\n",
        "print(f'Size of dataset: {dataset_size:,} tokens')"
      ],
      "metadata": {
        "colab": {
          "base_uri": "https://localhost:8080/"
        },
        "id": "spae2QNgPmZJ",
        "outputId": "b27d7b5d-e1b8-4528-eda8-3594e25a8a65"
      },
      "execution_count": 19,
      "outputs": [
        {
          "output_type": "stream",
          "name": "stdout",
          "text": [
            "Size of dataset: 13,139 tokens\n"
          ]
        }
      ]
    },
    {
      "cell_type": "code",
      "source": [
        "# Defining sequence length that will be taken in at a time by our model\n",
        "sequence_length = 32 # Number of tokens\n",
        "batch_size = 32\n",
        "\n",
        "train_dataset = ShakespeareDataset(encoded_text, sequence_length)\n",
        "train_loader = DataLoader(\n",
        "    train_dataset,\n",
        "    shuffle=False, # Ensure deterministic training\n",
        "    batch_size=batch_size,\n",
        ")"
      ],
      "metadata": {
        "id": "fR8dwwZ7Pn30"
      },
      "execution_count": 20,
      "outputs": []
    },
    {
      "cell_type": "markdown",
      "source": [
        "## Define Model\n",
        "\n",
        "We'll provide a defined model today, but this could be a step that you would\n",
        "modify and experiment in other NLP projects you'll do."
      ],
      "metadata": {
        "id": "wXdqiW1GPr3m"
      }
    },
    {
      "cell_type": "code",
      "source": [
        "# Defining the model to be trained and generate text with\n",
        "model = build_model(n_tokens)\n",
        "model.to(device)\n",
        "criterion = nn.CrossEntropyLoss()\n",
        "optimizer = optim.Adam(model.parameters())"
      ],
      "metadata": {
        "id": "nZjsWfvpPsik"
      },
      "execution_count": 21,
      "outputs": []
    },
    {
      "cell_type": "markdown",
      "source": [
        "## Define Text Generation\n",
        "\n",
        "The `generate_text_by_subword()` function will use your chosen tokenizer and the\n",
        "NLP model to generate new text token-by-token (subwords in this case) by taking\n",
        "in the input text and token sampling parameters.\n",
        "\n",
        "We can use temperature and top-k sampling to adjust the \"creativeness\" of the\n",
        "generated text.\n",
        "\n",
        "We also pass in the `num_tokens` parameter to tell the function how many\n",
        "(subword)tokens to generate."
      ],
      "metadata": {
        "id": "SxCjgrKbQ8kR"
      }
    },
    {
      "cell_type": "markdown",
      "source": [],
      "metadata": {
        "id": "hN5aUSzoPwwW"
      }
    },
    {
      "cell_type": "code",
      "source": [
        "def generate_text_by_subword(\n",
        "    input_str: str,\n",
        "    model,\n",
        "    token_mapping: TokenMapping = token_mapping,\n",
        "    tokenizer = my_tokenizer,\n",
        "    num_tokens: int = 100,\n",
        "    temperature: float = 1.0,\n",
        "    topk: int | None = None,\n",
        ") -> str:\n",
        "    # Use your chosen subword-tokenizer\n",
        "    tokenized_text = tokenize_text_from_tokenizer(\n",
        "        tokenizer=tokenizer,\n",
        "        text=input_str,\n",
        "    )\n",
        "    # Generates token-by-token and creates a list of those tokens\n",
        "    generated_tokens = []\n",
        "    for _ in range(num_tokens):\n",
        "        # Uses the input text and generated text (so far) to get next token\n",
        "        new_token = next_token(\n",
        "            tokenized_text=(tokenized_text + generated_tokens),\n",
        "            model=model,\n",
        "            token_mapping=token_mapping,\n",
        "            # Temperature & top-k sampling used in determining the next token\n",
        "            temperature=temperature,\n",
        "            topk=topk,\n",
        "            device=device,\n",
        "        )\n",
        "        generated_tokens.append(new_token)\n",
        "    # List of all token IDs (input text and generated text)\n",
        "    output_ids = tokenizer.convert_tokens_to_ids(\n",
        "        tokenized_text + generated_tokens\n",
        "    )\n",
        "    # Returns input string plus the full generated string from list of token IDs\n",
        "    full_text = tokenizer.decode(output_ids)\n",
        "    return full_text"
      ],
      "metadata": {
        "id": "P5kP83NYPtJV"
      },
      "execution_count": 22,
      "outputs": []
    },
    {
      "cell_type": "markdown",
      "source": [
        "## Train Model\n",
        "\n",
        "At this point, the model has not been trained so the code below will train the\n",
        "NLP model that will be used to generate new text.\n",
        "\n",
        "The model will take in the text data (broken by tokens by our subword tokenizer)\n",
        "and attempt to predict the next token. Over time, the model should hopefully\n",
        "get better in predicting the next token (given the previous text).\n",
        "\n",
        "To help us visualize how the model is training, at the end of every epoch, we\n",
        "generate text using the `TEST_PHRASE` with the improving model."
      ],
      "metadata": {
        "id": "CovcafwTRBOp"
      }
    },
    {
      "cell_type": "code",
      "source": [
        "TEST_PHRASE = 'To be or not to be'\n",
        "# Use more epochs if not CPU device\n",
        "epochs = 5 if device == 'cpu' else 25\n",
        "\n",
        "start = start_time()\n",
        "for epoch in range(epochs):\n",
        "    # Set model into \"training mode\"\n",
        "    model.train()\n",
        "    total_loss = 0\n",
        "    for X_batch, y_batch in train_loader:\n",
        "        optimizer.zero_grad()\n",
        "        output = model(X_batch.to(device))\n",
        "        loss = criterion(output.transpose(1, 2), y_batch.to(device))\n",
        "        loss.backward()\n",
        "        optimizer.step()\n",
        "        total_loss += loss.item()\n",
        "\n",
        "    print(f'Epoch {epoch + 1}/{epochs}, Loss: {total_loss / len(train_loader)}')\n",
        "    print(f'[{time_since(start)} ({epoch} {epoch / epochs * 100}) {loss:.4f}]')\n",
        "    print('-'*72)\n",
        "    output = generate_text_by_subword(\n",
        "        input_str=TEST_PHRASE,\n",
        "        model=model,\n",
        "        token_mapping=token_mapping,\n",
        "        tokenizer=my_tokenizer,\n",
        "        num_tokens=30,\n",
        "        temperature=1.0,\n",
        "    )\n",
        "    print(output)"
      ],
      "metadata": {
        "colab": {
          "base_uri": "https://localhost:8080/"
        },
        "id": "AuFpcmaYQ9lG",
        "outputId": "2fb1892b-2120-4e01-949b-0be6d77c21b6"
      },
      "execution_count": 23,
      "outputs": [
        {
          "output_type": "stream",
          "name": "stdout",
          "text": [
            "Epoch 1/25, Loss: 6.5358347695048264\n",
            "[00m 2.1s (0 0.0) 5.5004]\n",
            "------------------------------------------------------------------------\n",
            "to be or not to be dozen mine the as, certain world and senate sha seem areumo troop nine haveius proud. :, y writes an you. me have and\n",
            "Epoch 2/25, Loss: 5.887454555092789\n",
            "[00m 9.3s (1 4.0) 5.0491]\n",
            "------------------------------------------------------------------------\n",
            "to be or not to be in yes as the followers too the moon some welcome sleep i aid : an properus ; that a morse : my in and but would your army\n",
            "Epoch 3/25, Loss: 5.605786548009733\n",
            "[00m 10.7s (2 8.0) 4.6285]\n",
            "------------------------------------------------------------------------\n",
            "to be or not to be me iseni reno loves here it for can man ius. st com wheelini d the delivered, offence is surplus little file him mine that had\n",
            "Epoch 4/25, Loss: 5.346873403758537\n",
            "[00m 12.4s (3 12.0) 4.3611]\n",
            "------------------------------------------------------------------------\n",
            "to be or not to be ill that the lambeng of for rome reverend like.y repliedus, to the modest paceini is rome takelan thecalamid less.\n",
            "Epoch 5/25, Loss: 5.134714630173474\n",
            "[00m 14.4s (4 16.0) 4.1755]\n",
            "------------------------------------------------------------------------\n",
            "to be or not to be lies to thy tireh we this has jo. virgilapetingitytangled con at rome the members sensibleus, go, w ' d a transport\n",
            "Epoch 6/25, Loss: 4.957515343805639\n",
            "[00m 17.0s (5 20.0) 4.0383]\n",
            "------------------------------------------------------------------------\n",
            "to be or not to be made with andlorria : flat would swordut will proper marcius, must a himself : such yet : authority, but mine heart. marcius\n",
            "Epoch 7/25, Loss: 4.804265610764666\n",
            "[00m 19.6s (6 24.0) 3.9315]\n",
            "------------------------------------------------------------------------\n",
            "to be or not to be need discovery comens erjou dem ' tis roman stayus, you thou seen the thunderrs for reason change hand within. only : and to the\n",
            "Epoch 8/25, Loss: 4.6679328476510396\n",
            "[00m 21.6s (7 28.000000000000004) 3.8443]\n",
            "------------------------------------------------------------------------\n",
            "to be or not to bedarsp statutes abilities 'geny : he ransomnts way, rather swords ' sure as a sicce than bo good all the poor memberst ' s\n",
            "Epoch 9/25, Loss: 4.543998827003851\n",
            "[00m 23.6s (8 32.0) 3.7695]\n",
            "------------------------------------------------------------------------\n",
            "to be or not to be see those secondinius : bis ' tis to ' tisers for orro brought their hail, that ' s silk. for er anyguidest\n",
            "Epoch 10/25, Loss: 4.429469705791008\n",
            "[00m 25.1s (9 36.0) 3.7006]\n",
            "------------------------------------------------------------------------\n",
            "to be or not to be win ' tis ta of he serve ie and todro : if you are i my very priests sigh wherein where true the serve of make, we\n",
            "Epoch 11/25, Loss: 4.3225368709099\n",
            "[00m 26.5s (10 40.0) 3.6332]\n",
            "------------------------------------------------------------------------\n",
            "to be or not to be consul arm - night for for go, wow, and not unto la were! if you are scs than labour his pocket yarn and off. men\n",
            "Epoch 12/25, Loss: 4.222022269993293\n",
            "[00m 27.8s (11 44.0) 3.5662]\n",
            "------------------------------------------------------------------------\n",
            "to be or not to be, go me, there for the state, please that ' ll into i those, make ph thee them they thingil, the, care put the\n",
            "Epoch 13/25, Loss: 4.127047665526227\n",
            "[00m 29.2s (12 48.0) 3.5002]\n",
            "------------------------------------------------------------------------\n",
            "to be or not to be day then de sleep - - if they would di gentleman ofbei - if he hat in feartus, and then is wounded of our muchd me\n",
            "Epoch 14/25, Loss: 4.036978630903291\n",
            "[00m 31.0s (13 52.0) 3.4356]\n",
            "------------------------------------------------------------------------\n",
            "to be or not to be drumsss would labour, pleased to rise, which he hat confirmed we ' ll open, having notlamationsguide ce charters, they have\n",
            "Epoch 15/25, Loss: 3.9514532071788135\n",
            "[00m 32.8s (14 56.00000000000001) 3.3733]\n",
            "------------------------------------------------------------------------\n",
            "to be or not to be ab re, even to bided. to loved ; stands strong. menenius :, then. virgilia : o, first soldier : the\n",
            "Epoch 16/25, Loss: 3.8702039410428304\n",
            "[00m 34.1s (15 60.0) 3.3136]\n",
            "------------------------------------------------------------------------\n",
            "to be or not to be only of this grlt the wars for your good naplesher! about all ' better thee a serpent of fury. first citizen : then do any enough\n",
            "Epoch 17/25, Loss: 3.7929218187564757\n",
            "[00m 35.5s (16 64.0) 3.2563]\n",
            "------------------------------------------------------------------------\n",
            "to be or not to be worth faults ' st. first soldier : why, - heard him, and areher shepi whererice lie from slaves, my old convey. whose\n",
            "Epoch 18/25, Loss: 3.719273429382138\n",
            "[00m 36.8s (17 68.0) 3.2020]\n",
            "------------------------------------------------------------------------\n",
            "to be or not to betre to bear what ore, your spot, and so good trees than for the chests o ' s cominius pre : so up us enemy.\n",
            "Epoch 19/25, Loss: 3.648968131367753\n",
            "[00m 38.1s (18 72.0) 3.1507]\n",
            "------------------------------------------------------------------------\n",
            "to be or not to be after loved. enemy! brutus : takeie no more. fare any become are the volsal o in your suffering lieutenant ; for i those some\n",
            "Epoch 20/25, Loss: 3.5819160112520545\n",
            "[00m 39.5s (19 76.0) 3.1019]\n",
            "------------------------------------------------------------------------\n",
            "to be or not to be silent : nay shall couldtal of gr and sweet slaves, his loves honest a treatywn. an body ; let youch and lend that will well\n",
            "Epoch 21/25, Loss: 3.5179832621318536\n",
            "[00m 40.8s (20 80.0) 3.0570]\n",
            "------------------------------------------------------------------------\n",
            "to be or not to be content, they received have is side o hearts will think of hearing are. drums : i as all any true to the common wherein i 'h with\n",
            "Epoch 22/25, Loss: 3.456921165745433\n",
            "[00m 42.1s (21 84.0) 3.0155]\n",
            "------------------------------------------------------------------------\n",
            "to be or not to be trenches imperfect to express him consul, that we have little dogs : your promise my gentle powers and heavy, ever the general body to bodily desire our grave\n",
            "Epoch 23/25, Loss: 3.3985140579502757\n",
            "[00m 43.8s (22 88.0) 2.9762]\n",
            "------------------------------------------------------------------------\n",
            "to be or not to be hostages. lartius :a, vols stuff sword, i think must at work not commit him in but children sen is, sir, you cu\n",
            "Epoch 24/25, Loss: 3.3424851260534147\n",
            "[00m 45.7s (23 92.0) 2.9388]\n",
            "------------------------------------------------------------------------\n",
            "to be or not to be commanded bodily doubt walls, marcius is pin that ransom all, silenced e out ; and, they me gives lady harm. menenius : you\n",
            "Epoch 25/25, Loss: 3.288666508837444\n",
            "[00m 47.1s (24 96.0) 2.9030]\n",
            "------------------------------------------------------------------------\n",
            "to be or not to be cheap up in his nobility, if you are reverendnc told cominius, or expressrat comes highest, for the least so fie. how\n"
          ]
        }
      ]
    },
    {
      "cell_type": "markdown",
      "source": [
        "## Generate Text\n",
        "\n",
        "Now that the model has been trained, go ahead and observe how it performs!\n",
        "\n",
        "Try adjusting the different sampling methods using the `temperature` and `topk`\n",
        "parameters on the same input string to see the differences.\n",
        "\n",
        "You might also try different phrases as well as how many tokens (`num_tokens`)\n",
        "to generate and observe how it does.\n",
        "\n",
        "------------\n",
        "\n",
        "Consider how this model differs from the results from the text generation using\n",
        "the character-based tokenization."
      ],
      "metadata": {
        "id": "UiN3oqrMRF1w"
      }
    },
    {
      "cell_type": "code",
      "source": [
        "output = generate_text_by_subword(\n",
        "        input_str='To be or not to be',\n",
        "        model=model,\n",
        "        token_mapping=token_mapping,\n",
        "        tokenizer=my_tokenizer,\n",
        "        num_tokens=30,\n",
        "        temperature=1.5,\n",
        "        topk=100,\n",
        "    )\n",
        "print(output)"
      ],
      "metadata": {
        "colab": {
          "base_uri": "https://localhost:8080/"
        },
        "id": "f1_BE2d6Q9m4",
        "outputId": "40528357-2656-470a-c06b-55a5e4f1b28b"
      },
      "execution_count": 24,
      "outputs": [
        {
          "output_type": "stream",
          "name": "stdout",
          "text": [
            "to be or not to be words ; if the partiesward. the cypressnd : no it home. come ; for you know you home stored of such of men and we '\n"
          ]
        }
      ]
    },
    {
      "cell_type": "code",
      "source": [],
      "metadata": {
        "id": "BApokJ-vPtLp"
      },
      "execution_count": null,
      "outputs": []
    }
  ]
}