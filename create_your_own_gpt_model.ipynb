{
  "nbformat": 4,
  "nbformat_minor": 0,
  "metadata": {
    "colab": {
      "provenance": [],
      "authorship_tag": "ABX9TyNJnHgHjZXgLMbIBXZKEdDY",
      "include_colab_link": true
    },
    "kernelspec": {
      "name": "python3",
      "display_name": "Python 3"
    },
    "language_info": {
      "name": "python"
    }
  },
  "cells": [
    {
      "cell_type": "markdown",
      "metadata": {
        "id": "view-in-github",
        "colab_type": "text"
      },
      "source": [
        "<a href=\"https://colab.research.google.com/github/yilinmiao/llm_text_generation/blob/main/create_your_own_gpt_model.ipynb\" target=\"_parent\"><img src=\"https://colab.research.google.com/assets/colab-badge.svg\" alt=\"Open In Colab\"/></a>"
      ]
    },
    {
      "cell_type": "markdown",
      "source": [
        "# Train my own transformer!\n",
        "\n",
        "We will construct and train a minified GPT implementation. GPT refers to the \"Generative Pre-trained Transformers\" from OpenAI, originally described in [\"Improving language understanding with unsupervised learning\"](https://s3-us-west-2.amazonaws.com/openai-assets/research-covers/language-unsupervised/language_understanding_paper.pdf). This specific GPT implementation is heavily inspired by the [minGPT implementation](https://github.com/karpathy/minGPT) provided by [Andrej Karpathy](https://github.com/karpathy/).\n",
        "\n",
        "There are three important PyTorch modules here:\n",
        "* `MultiHeadSelfAttention`: a self-attention implementation which will be provided for you;\n",
        "* `Block`: a transformer block which is repeated n_layer times in a GPT model;\n",
        "* `GPT`: the full GPT model itself, including intial embeddings, the GPT blocks, and the token decoding logic.\n",
        "\n",
        "\n",
        "The `GPT` module uses the `Block` module, which in turn uses the `MultiHeadSelfAttention` module.\n",
        "```                                   \n",
        "    ┌────────────────────────┐     \n",
        "    │          GPT           │     \n",
        "    └────────────────────────┘     \n",
        "                ▲                  \n",
        "    ┌───────────┴────────────┐     \n",
        "    │         Block          │     \n",
        "    └────────────────────────┘     \n",
        "                ▲                  \n",
        "    ┌───────────┴────────────┐     \n",
        "    │ MultiHeadSelfAttention │     \n",
        "    └────────────────────────┘     \n",
        "\n",
        "```"
      ],
      "metadata": {
        "id": "Zi-22svpLZO8"
      }
    },
    {
      "cell_type": "markdown",
      "source": [
        "## Step: Import and show MultiHeadSelfAttention"
      ],
      "metadata": {
        "id": "CMdZD4O4LfBS"
      }
    },
    {
      "cell_type": "code",
      "execution_count": 2,
      "metadata": {
        "colab": {
          "base_uri": "https://localhost:8080/"
        },
        "id": "2yfMhucgKQdX",
        "outputId": "44a98bb0-5547-4a77-8924-c51ed08b16b1"
      },
      "outputs": [
        {
          "output_type": "stream",
          "name": "stdout",
          "text": [
            "MultiHeadSelfAttention(\n",
            "  (key): Linear(in_features=12, out_features=12, bias=True)\n",
            "  (query): Linear(in_features=12, out_features=12, bias=True)\n",
            "  (value): Linear(in_features=12, out_features=12, bias=True)\n",
            "  (attn_drop): Dropout(p=0.1, inplace=False)\n",
            "  (resid_drop): Dropout(p=0.1, inplace=False)\n",
            "  (proj): Linear(in_features=12, out_features=12, bias=True)\n",
            ")\n"
          ]
        }
      ],
      "source": [
        "from common import GPTConfig, MultiHeadSelfAttention\n",
        "\n",
        "# Let's use a placeholder config to show how the attention layer works\n",
        "config = GPTConfig(\n",
        "    vocab_size=10,\n",
        "    n_layer=3,\n",
        "    n_embd=12,\n",
        "    n_head=4,\n",
        "    block_size=5,\n",
        ")\n",
        "\n",
        "attention = MultiHeadSelfAttention(config)\n",
        "\n",
        "print(attention)"
      ]
    },
    {
      "cell_type": "markdown",
      "source": [
        "## Step: Create the Transformer Block\n",
        "\n",
        "Now we are going to create the GPT model using the `MultiHeadSelfAttention` module. Please fill in the sections marked `TODO`.\n",
        "\n",
        "In this cell, we are going to implement what is called a residual connection, which takes the form:\n",
        "\n",
        "```\n",
        "x := x + MultiHeadSelfAttention(LayerNorm(x)) + MLP(LayerNorm(x))\n",
        "```"
      ],
      "metadata": {
        "id": "QcxaQg6sLhI1"
      }
    },
    {
      "cell_type": "code",
      "source": [
        "import torch.nn as nn\n",
        "from common import MultiHeadSelfAttention\n",
        "\n",
        "\n",
        "class Block(nn.Module):\n",
        "    \"\"\"an unassuming Transformer block\"\"\"\n",
        "\n",
        "    # === EXERCISE PART 1 START: CONSTRUCT A TRANSFORMER BLOCK ===\n",
        "    def __init__(self, config):\n",
        "        super().__init__()\n",
        "        self.ln1 = nn.LayerNorm(config.n_embd)\n",
        "        self.ln2 = nn.LayerNorm(config.n_embd)\n",
        "\n",
        "        # TODO: Instantiate the MultiHeadSelfAttention module\n",
        "        # self.attn = <TODO>\n",
        "        self.attn = MultiHeadSelfAttention(config)  # Solution\n",
        "\n",
        "        self.mlp = nn.Sequential(\n",
        "            nn.Linear(config.n_embd, 4 * config.n_embd),\n",
        "            nn.GELU(),\n",
        "            nn.Linear(4 * config.n_embd, config.n_embd),\n",
        "            nn.Dropout(config.resid_pdrop),\n",
        "        )\n",
        "\n",
        "    def forward(self, x):\n",
        "        # TODO: implement a residual connection of the following form\n",
        "        # x := x + MultiHeadSelfAttention(LayerNorm(x)) + MLP(LayerNorm(x))\n",
        "\n",
        "        # Hint: MultiHeadSelfAttention, LayerNorm, and MLP were all instantiated in __init__\n",
        "        # and are available as properties of self, e.g. self.attn\n",
        "        # x = <TODO>\n",
        "        x = x + self.attn(self.ln1(x)) + self.mlp(self.ln2(x))  # Solution\n",
        "\n",
        "        return x\n",
        "\n",
        "    # === EXERCISE PART 1 END: CONSTRUCT A TRANSFORMER BLOCK ===\n",
        "\n",
        "\n",
        "# Check that the block instantiates\n",
        "block = Block(config)\n",
        "block"
      ],
      "metadata": {
        "colab": {
          "base_uri": "https://localhost:8080/"
        },
        "id": "vLhbaWaOLhsh",
        "outputId": "55e5eae4-f7ae-433d-d114-04c2376058fd"
      },
      "execution_count": 3,
      "outputs": [
        {
          "output_type": "execute_result",
          "data": {
            "text/plain": [
              "Block(\n",
              "  (ln1): LayerNorm((12,), eps=1e-05, elementwise_affine=True)\n",
              "  (ln2): LayerNorm((12,), eps=1e-05, elementwise_affine=True)\n",
              "  (attn): MultiHeadSelfAttention(\n",
              "    (key): Linear(in_features=12, out_features=12, bias=True)\n",
              "    (query): Linear(in_features=12, out_features=12, bias=True)\n",
              "    (value): Linear(in_features=12, out_features=12, bias=True)\n",
              "    (attn_drop): Dropout(p=0.1, inplace=False)\n",
              "    (resid_drop): Dropout(p=0.1, inplace=False)\n",
              "    (proj): Linear(in_features=12, out_features=12, bias=True)\n",
              "  )\n",
              "  (mlp): Sequential(\n",
              "    (0): Linear(in_features=12, out_features=48, bias=True)\n",
              "    (1): GELU(approximate='none')\n",
              "    (2): Linear(in_features=48, out_features=12, bias=True)\n",
              "    (3): Dropout(p=0.1, inplace=False)\n",
              "  )\n",
              ")"
            ]
          },
          "metadata": {},
          "execution_count": 3
        }
      ]
    },
    {
      "cell_type": "code",
      "source": [
        "# Let's check some aspects of the block\n",
        "block = Block(config)\n",
        "assert isinstance(block.attn, MultiHeadSelfAttention)"
      ],
      "metadata": {
        "id": "gNpkfxbqLoRm"
      },
      "execution_count": 4,
      "outputs": []
    },
    {
      "cell_type": "markdown",
      "source": [
        "## Step: Let's construct the GPT module\n",
        "It's time to put it all together and make our GPT PyTorch model."
      ],
      "metadata": {
        "id": "4Q9FjWjUL0iq"
      }
    },
    {
      "cell_type": "code",
      "source": [
        "import torch\n",
        "import torch.nn.functional as F\n",
        "\n",
        "\n",
        "class GPT(nn.Module):\n",
        "    \"\"\"the full GPT language model, with a context size of block_size\"\"\"\n",
        "\n",
        "    # === EXERCISE PART 2 START: COMPLETE THE GPT MODEL ===\n",
        "\n",
        "    def __init__(self, config):\n",
        "        super().__init__()\n",
        "\n",
        "        # input embedding stem\n",
        "        self.tok_emb = nn.Embedding(config.vocab_size, config.n_embd)\n",
        "        self.pos_emb = nn.Parameter(torch.zeros(1, config.block_size, config.n_embd))\n",
        "        self.drop = nn.Dropout(config.embd_pdrop)\n",
        "\n",
        "        # transformer\n",
        "        # TODO: Instantiate a sequence of N=config.n_layer transformer blocks.\n",
        "        # Hint: use nn.Sequential to chain N instances of the Block module.\n",
        "        # self.blocks = <TODO>\n",
        "        self.blocks = nn.Sequential(\n",
        "            *[Block(config) for _ in range(config.n_layer)]\n",
        "        )  # Solution\n",
        "\n",
        "        # decoder head\n",
        "        self.ln_f = nn.LayerNorm(config.n_embd)\n",
        "        self.head = nn.Linear(config.n_embd, config.vocab_size, bias=False)\n",
        "\n",
        "        self.block_size = config.block_size\n",
        "        self.apply(self._init_weights)\n",
        "\n",
        "        print(\n",
        "            \"number of parameters: {}\".format(sum(p.numel() for p in self.parameters()))\n",
        "        )\n",
        "\n",
        "    def _init_weights(self, module):\n",
        "        if isinstance(module, (nn.Linear, nn.Embedding)):\n",
        "            module.weight.data.normal_(mean=0.0, std=0.02)\n",
        "            if isinstance(module, nn.Linear) and module.bias is not None:\n",
        "                module.bias.data.zero_()\n",
        "        elif isinstance(module, nn.LayerNorm):\n",
        "            module.bias.data.zero_()\n",
        "            module.weight.data.fill_(1.0)\n",
        "\n",
        "    def get_block_size(self):\n",
        "        return self.block_size\n",
        "\n",
        "    def forward(self, idx, targets=None):\n",
        "        b, t = idx.size()\n",
        "        assert t <= self.block_size, \"Cannot forward, model block size is exhausted.\"\n",
        "\n",
        "        # Create token embeddings and add positional embeddings\n",
        "        token_embeddings = self.tok_emb(idx)  # each index maps to a (learnable) vector\n",
        "        position_embeddings = self.pos_emb[\n",
        "            :, :t, :\n",
        "        ]  # each position maps to a (learnable) vector\n",
        "        x = self.drop(token_embeddings + position_embeddings)\n",
        "\n",
        "        # TODO: Pass the embeddings through the transformer blocks, created previously in __init__\n",
        "        # x = <TODO>\n",
        "        x = self.blocks(x)  # Solution\n",
        "\n",
        "        # Decode the output of the transformer blocks\n",
        "        x = self.ln_f(x)\n",
        "        logits = self.head(x)\n",
        "\n",
        "        # If we are given some desired targets also calculate the loss, e.g. during training\n",
        "        if targets is not None:\n",
        "            loss = F.cross_entropy(\n",
        "                logits.view(-1, logits.size(-1)), targets.view(-1), ignore_index=-1\n",
        "            )\n",
        "        else:\n",
        "            loss = None\n",
        "\n",
        "        return logits, loss\n",
        "\n",
        "    # === EXERCISE PART 2 END: COMPLETE THE GPT MODEL ===\n",
        "\n",
        "    @torch.no_grad()\n",
        "    def generate(\n",
        "        self, idx, max_new_tokens, temperature=1.0, top_k=None, stop_tokens=None\n",
        "    ):\n",
        "        \"\"\"\n",
        "        Take a conditioning sequence of indices idx (LongTensor of shape (b,t)) and complete\n",
        "        the sequence max_new_tokens times, feeding the predictions back into the model each time.\n",
        "        Most likely you'll want to make sure to be in model.eval() mode of operation for this.\n",
        "        \"\"\"\n",
        "\n",
        "        # === EXERCISE PART 3 START: COMPLETE THE GENERATION LOGIC ===\n",
        "        for _ in range(max_new_tokens):\n",
        "            # if the sequence context is growing too long we must crop it at block_size\n",
        "            idx_cond = (\n",
        "                idx if idx.size(1) <= self.block_size else idx[:, -self.block_size :]\n",
        "            )\n",
        "\n",
        "            # forward the model to get the logits for the index in the sequence\n",
        "            logits, _ = self(idx_cond)\n",
        "\n",
        "            # pluck the logits at the final step and scale by desired temperature\n",
        "            logits = logits[:, -1, :] / temperature\n",
        "\n",
        "            # optionally crop the logits to only the top k options\n",
        "            if top_k is not None:\n",
        "                v, _ = torch.topk(logits, top_k)\n",
        "                logits[logits < v[:, [-1]]] = -float(\"Inf\")\n",
        "\n",
        "            # TODO: apply softmax to convert logits to (normalized) probabilities\n",
        "            # using F.softmax. Remember the dim=-1 parameter.\n",
        "            # probs = <TODO>\n",
        "            probs = F.softmax(logits, dim=-1)  # Solution\n",
        "\n",
        "            # TODO: sample from the distribution (if top_k=1 this is equivalent to greedy sampling)\n",
        "            # using torch.multinomial. You only need to sample a single token.\n",
        "            # idx_next = <TODO>\n",
        "            idx_next = torch.multinomial(probs, num_samples=1)  # Solution\n",
        "\n",
        "            # append sampled index to the running sequence and continue\n",
        "            idx = torch.cat((idx, idx_next), dim=1)\n",
        "\n",
        "            # stop prediction if we produced a stop token\n",
        "            if stop_tokens is not None and idx_next.item() in stop_tokens:\n",
        "                return idx\n",
        "        # === EXERCISE PART 3 END: COMPLETE THE GENERATION LOGIC ===\n",
        "\n",
        "        return idx"
      ],
      "metadata": {
        "id": "AD1fo9u2L4RB"
      },
      "execution_count": 5,
      "outputs": []
    },
    {
      "cell_type": "code",
      "source": [
        "# Let's check this model runs real quickly\n",
        "\n",
        "\n",
        "model = GPT(config)\n",
        "input_seq = torch.tensor([[1, 2, 3]])\n",
        "output_seq = model.generate(input_seq, max_new_tokens=30)\n",
        "\n",
        "# Check the generated sequence shape\n",
        "assert output_seq.shape == (1, 33)\n",
        "\n",
        "print(\"input sequence:\", input_seq.tolist()[0])\n",
        "print(\"output sequence:\", output_seq.tolist()[0])\n",
        "\n",
        "print(\"Success!\")"
      ],
      "metadata": {
        "colab": {
          "base_uri": "https://localhost:8080/"
        },
        "id": "h0tnekJpL-IS",
        "outputId": "25500b2a-9401-434a-ff8e-fecf0b8fd132"
      },
      "execution_count": 6,
      "outputs": [
        {
          "output_type": "stream",
          "name": "stdout",
          "text": [
            "number of parameters: 5976\n",
            "input sequence: [1, 2, 3]\n",
            "output sequence: [1, 2, 3, 1, 2, 1, 3, 5, 9, 4, 6, 6, 6, 4, 4, 4, 5, 2, 6, 1, 4, 0, 8, 5, 4, 5, 9, 7, 1, 2, 6, 7, 4]\n",
            "Success!\n"
          ]
        }
      ]
    },
    {
      "cell_type": "markdown",
      "source": [
        "## Step: Load a dataset\n",
        "\n",
        "We will now train our GPT model on a dataset consisting of one- to three-digit addition problems, e.g.\n",
        "\n",
        "```\n",
        "111+222=3+30+300=333\n",
        "```\n",
        "\n",
        "We break the addition up into two steps (first `=3+30+300` and then finally `=333`) to help the model train more quickly and successfully."
      ],
      "metadata": {
        "id": "5mrGz6LWL_tx"
      }
    },
    {
      "cell_type": "code",
      "source": [
        "# Run this cell to create a dataset. No modifications are needed.\n",
        "\n",
        "import numpy as np\n",
        "from common import AdditionDataset, CharacterTokenizer\n",
        "\n",
        "BLOCK_SIZE = 32\n",
        "\n",
        "tokenizer = CharacterTokenizer(\n",
        "    characters=[\"0\", \"1\", \"2\", \"3\", \"4\", \"5\", \"6\", \"7\", \"8\", \"9\", \"+\", \" \", \"=\"],\n",
        "    model_max_length=BLOCK_SIZE,\n",
        ")\n",
        "\n",
        "dataset = AdditionDataset(\n",
        "    tokenizer=tokenizer,\n",
        "    block_size=BLOCK_SIZE,\n",
        "    numbers=list(range(0, 1000, 2)),\n",
        "    include_intermediate_steps=True,\n",
        ")\n",
        "\n",
        "for ix in [11177, 22222]:\n",
        "    x, y = dataset[ix]\n",
        "\n",
        "    print(f\"=== Example {ix} ===\")\n",
        "\n",
        "    np.set_printoptions(linewidth=999)\n",
        "    print(f\"x = {x.numpy()}\")\n",
        "    print(f\"y = {y.numpy()}\")\n",
        "\n",
        "    # show lengths\n",
        "    print(f\"x length = {len(x)}\")\n",
        "    print(f\"y length = {len(y)}\")\n",
        "\n",
        "    # print x decoded\n",
        "    x = tokenizer.decode(x, skip_special_tokens=True)\n",
        "    print(f\"x decoded = {x}\")\n",
        "\n",
        "    # print y decoded, replacing the -1 token with _\n",
        "    num_unknowns = y.tolist().count(-1)\n",
        "    y = tokenizer.decode(y[num_unknowns:], skip_special_tokens=True)\n",
        "    print(f\"y decoded = {'_'*(num_unknowns-1)}{y}\")"
      ],
      "metadata": {
        "colab": {
          "base_uri": "https://localhost:8080/"
        },
        "id": "BoJKCyWiMFMh",
        "outputId": "edeab193-e32b-409f-dbc1-660a546f36d1"
      },
      "execution_count": 7,
      "outputs": [
        {
          "output_type": "stream",
          "name": "stdout",
          "text": [
            "=== Example 11177 ===\n",
            "x = [ 0 11 11 17 10 12 11 19 15 17 16  7 17 10  7  7 19 10 16 15  1  4  4  4  4  4  4  4  4  4  4  4]\n",
            "y = [-1 -1 -1 -1 -1 -1 -1 15 17 16  7 17 10  7  7 19 10 16 15  1  4  4  4  4  4  4  4  4  4  4  4  4]\n",
            "x length = 32\n",
            "y length = 32\n",
            "x decoded = 44+354=8+90+300=398\n",
            "y decoded = ______8+90+300=398\n",
            "=== Example 22222 ===\n",
            "x = [ 0 15 15 17 11 11 11 19  9 17 10  7 17 12  7  7 19 12 10  9  1  4  4  4  4  4  4  4  4  4  4  4]\n",
            "y = [-1 -1 -1 -1 -1 -1 -1  9 17 10  7 17 12  7  7 19 12 10  9  1  4  4  4  4  4  4  4  4  4  4  4  4]\n",
            "x length = 32\n",
            "y length = 32\n",
            "x decoded = 88+444=2+30+500=532\n",
            "y decoded = ______2+30+500=532\n"
          ]
        }
      ]
    },
    {
      "cell_type": "markdown",
      "source": [
        "Let's take a minute to examine our dataset.\n",
        "\n",
        "* What do you notice about the x, the input, and y the target?\n",
        "* Are they the same length?\n",
        "* What can you say about the alignment of the sequences?\n",
        "* What else is different between them?"
      ],
      "metadata": {
        "id": "DEPA2kF8MILJ"
      }
    },
    {
      "cell_type": "markdown",
      "source": [
        "# Step: Train the model!\n",
        "\n",
        "Now we will train a small GPT model using this dataset. Along the way we should see how the model's performance improves on real data."
      ],
      "metadata": {
        "id": "up98USF6MK48"
      }
    },
    {
      "cell_type": "code",
      "source": [
        "# Instantiate the model and a trainer. No modifications are needed.\n",
        "\n",
        "from common import GPTConfig, Trainer, TrainerConfig\n",
        "\n",
        "# instantiate a mini-GPT type model\n",
        "model_config = GPTConfig(\n",
        "    vocab_size=tokenizer.vocab_size,\n",
        "    block_size=BLOCK_SIZE,\n",
        "    n_layer=3,\n",
        "    n_head=3,\n",
        "    n_embd=48,\n",
        ")\n",
        "\n",
        "model = GPT(model_config)\n",
        "\n",
        "# create a trainer\n",
        "train_config = TrainerConfig(\n",
        "    max_epochs=1,\n",
        "    batch_size=1000,\n",
        "    learning_rate=4e-3,\n",
        ")\n",
        "\n",
        "trainer = Trainer(model, dataset, train_config)\n",
        "\n",
        "# Print the device the trainer will use (cpu, gpu, ...)\n",
        "print(f\"Using device: {trainer.device}\")"
      ],
      "metadata": {
        "colab": {
          "base_uri": "https://localhost:8080/"
        },
        "id": "ehVBE-OSMIqH",
        "outputId": "e53b8b3f-35c5-4098-a571-bc5d57d78fd9"
      },
      "execution_count": 8,
      "outputs": [
        {
          "output_type": "stream",
          "name": "stdout",
          "text": [
            "number of parameters: 88368\n",
            "Using device: cpu\n"
          ]
        }
      ]
    },
    {
      "cell_type": "code",
      "source": [
        "# Let's see the performance on real data before training. No modifications are needed.\n",
        "from common import show_examples\n",
        "\n",
        "show_examples(model, dataset, tokenizer, trainer.device, top_k=1, temperature=1.0)"
      ],
      "metadata": {
        "colab": {
          "base_uri": "https://localhost:8080/"
        },
        "id": "yhkENlk_MOhS",
        "outputId": "ab6c55c4-d21c-41a8-a89e-018b4649ea9c"
      },
      "execution_count": 9,
      "outputs": [
        {
          "output_type": "stream",
          "name": "stdout",
          "text": [
            "❌ input->output: [CLS]550+84= 👉 2+54[PAD]+[PAD]+54[CLS] expected: 634, got: None\n",
            "❌ input->output: [CLS]558+504= 👉 2+72070=2072+[PAD][BOS]20720=207[CLS] expected: 1062, got: 207\n",
            "❌ input->output: [CLS]278+88= 👉 23[BOS]+[PAD]+[PAD][BOS]20=242=2[MASK]2=2=2=2+54[UNK]207[MASK] expected: 366, got: 2\n",
            "❌ input->output: [CLS]422+740= 👉 +[PAD][BOS]754[UNK][UNK]66[UNK]2+3[BOS]2+754[UNK]66[UNK][UNK]6666507 expected: 1162, got: None\n",
            "❌ input->output: [CLS]760+660= 👉 2+82+[MASK]2+[MASK]4[UNK]666[UNK]6666666666[CLS] expected: 1420, got: None\n",
            "❌ input->output: [CLS]256+630= 👉 2[MASK]2+[MASK]424[UNK][UNK]6[CLS] expected: 886, got: None\n",
            "❌ input->output: [CLS]120+672= 👉 22=24[UNK][UNK][UNK]66666666[CLS] expected: 792, got: 24\n",
            "❌ input->output: [CLS]94+418= 👉 +[PAD][BOS]9[UNK]383=23[PAD][SEP] expected: 512, got: 23\n",
            "❌ input->output: [CLS]464+796= 👉 +74666966666666[CLS] expected: 1260, got: None\n",
            "❌ input->output: [CLS]624+106= 👉 2+[PAD]82=2=2+80=2+[MASK]4[UNK]6[UNK]6666666[UNK]663[CLS] expected: 730, got: 2\n",
            "\n",
            "Correct: 0 out of 10: 0.0%\n"
          ]
        }
      ]
    },
    {
      "cell_type": "code",
      "source": [
        "# Let's train the model for an epoch, and see the performance again.\n",
        "# We will repeat this a few times to see the model improve.\n",
        "# No modifications are needed.\n",
        "\n",
        "# Note, depending on your hardware, you may need to reduce the batch size\n",
        "# if you get any out-of-memory errors.\n",
        "\n",
        "for _ in range(6):\n",
        "    trainer.train()  # train just one epoch each time\n",
        "    show_examples(model, dataset, tokenizer, trainer.device, top_k=3, temperature=1.0)"
      ],
      "metadata": {
        "colab": {
          "base_uri": "https://localhost:8080/"
        },
        "id": "GTzkusZ9MRiL",
        "outputId": "c36f2bf5-5a6b-4258-f0f1-c5b89f8ce2b4"
      },
      "execution_count": null,
      "outputs": [
        {
          "output_type": "stream",
          "name": "stderr",
          "text": [
            "epoch 1 iter 70: train loss 0.53637. lr 4.000000e-03:  28%|██▊       | 71/250 [01:22<03:15,  1.09s/it]"
          ]
        }
      ]
    },
    {
      "cell_type": "code",
      "source": [
        "# Let's evaluate on 30 examples. No modifications are needed.\n",
        "\n",
        "show_examples(\n",
        "    model, dataset, tokenizer, trainer.device, top_k=1, temperature=1.0, max_num=30\n",
        ")"
      ],
      "metadata": {
        "id": "FeVuZx1fMhRx"
      },
      "execution_count": null,
      "outputs": []
    }
  ]
}