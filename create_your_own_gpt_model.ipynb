{
  "nbformat": 4,
  "nbformat_minor": 0,
  "metadata": {
    "colab": {
      "provenance": [],
      "gpuType": "T4",
      "authorship_tag": "ABX9TyNJnHgHjZXgLMbIBXZKEdDY",
      "include_colab_link": true
    },
    "kernelspec": {
      "name": "python3",
      "display_name": "Python 3"
    },
    "language_info": {
      "name": "python"
    },
    "accelerator": "GPU"
  },
  "cells": [
    {
      "cell_type": "markdown",
      "metadata": {
        "id": "view-in-github",
        "colab_type": "text"
      },
      "source": [
        "<a href=\"https://colab.research.google.com/github/yilinmiao/llm_text_generation/blob/main/create_your_own_gpt_model.ipynb\" target=\"_parent\"><img src=\"https://colab.research.google.com/assets/colab-badge.svg\" alt=\"Open In Colab\"/></a>"
      ]
    },
    {
      "cell_type": "markdown",
      "source": [
        "# Train my own transformer!\n",
        "\n",
        "We will construct and train a minified GPT implementation. GPT refers to the \"Generative Pre-trained Transformers\" from OpenAI, originally described in [\"Improving language understanding with unsupervised learning\"](https://s3-us-west-2.amazonaws.com/openai-assets/research-covers/language-unsupervised/language_understanding_paper.pdf). This specific GPT implementation is heavily inspired by the [minGPT implementation](https://github.com/karpathy/minGPT) provided by [Andrej Karpathy](https://github.com/karpathy/).\n",
        "\n",
        "There are three important PyTorch modules here:\n",
        "* `MultiHeadSelfAttention`: a self-attention implementation which will be provided for you;\n",
        "* `Block`: a transformer block which is repeated n_layer times in a GPT model;\n",
        "* `GPT`: the full GPT model itself, including intial embeddings, the GPT blocks, and the token decoding logic.\n",
        "\n",
        "\n",
        "The `GPT` module uses the `Block` module, which in turn uses the `MultiHeadSelfAttention` module.\n",
        "```                                   \n",
        "    ┌────────────────────────┐     \n",
        "    │          GPT           │     \n",
        "    └────────────────────────┘     \n",
        "                ▲                  \n",
        "    ┌───────────┴────────────┐     \n",
        "    │         Block          │     \n",
        "    └────────────────────────┘     \n",
        "                ▲                  \n",
        "    ┌───────────┴────────────┐     \n",
        "    │ MultiHeadSelfAttention │     \n",
        "    └────────────────────────┘     \n",
        "\n",
        "```"
      ],
      "metadata": {
        "id": "Zi-22svpLZO8"
      }
    },
    {
      "cell_type": "markdown",
      "source": [
        "## Step: Import and show MultiHeadSelfAttention"
      ],
      "metadata": {
        "id": "CMdZD4O4LfBS"
      }
    },
    {
      "cell_type": "code",
      "execution_count": 1,
      "metadata": {
        "colab": {
          "base_uri": "https://localhost:8080/"
        },
        "id": "2yfMhucgKQdX",
        "outputId": "c9452be6-6012-4bfb-b95a-53f904dcd6f8"
      },
      "outputs": [
        {
          "output_type": "stream",
          "name": "stdout",
          "text": [
            "MultiHeadSelfAttention(\n",
            "  (key): Linear(in_features=12, out_features=12, bias=True)\n",
            "  (query): Linear(in_features=12, out_features=12, bias=True)\n",
            "  (value): Linear(in_features=12, out_features=12, bias=True)\n",
            "  (attn_drop): Dropout(p=0.1, inplace=False)\n",
            "  (resid_drop): Dropout(p=0.1, inplace=False)\n",
            "  (proj): Linear(in_features=12, out_features=12, bias=True)\n",
            ")\n"
          ]
        }
      ],
      "source": [
        "from common import GPTConfig, MultiHeadSelfAttention\n",
        "\n",
        "# Let's use a placeholder config to show how the attention layer works\n",
        "config = GPTConfig(\n",
        "    vocab_size=10,\n",
        "    n_layer=3,\n",
        "    n_embd=12,\n",
        "    n_head=4,\n",
        "    block_size=5,\n",
        ")\n",
        "\n",
        "attention = MultiHeadSelfAttention(config)\n",
        "\n",
        "print(attention)"
      ]
    },
    {
      "cell_type": "markdown",
      "source": [
        "## Step: Create the Transformer Block\n",
        "\n",
        "Now we are going to create the GPT model using the `MultiHeadSelfAttention` module. Please fill in the sections marked `TODO`.\n",
        "\n",
        "In this cell, we are going to implement what is called a residual connection, which takes the form:\n",
        "\n",
        "```\n",
        "x := x + MultiHeadSelfAttention(LayerNorm(x)) + MLP(LayerNorm(x))\n",
        "```"
      ],
      "metadata": {
        "id": "QcxaQg6sLhI1"
      }
    },
    {
      "cell_type": "code",
      "source": [
        "import torch.nn as nn\n",
        "from common import MultiHeadSelfAttention\n",
        "\n",
        "\n",
        "class Block(nn.Module):\n",
        "    \"\"\"an unassuming Transformer block\"\"\"\n",
        "\n",
        "    # === EXERCISE PART 1 START: CONSTRUCT A TRANSFORMER BLOCK ===\n",
        "    def __init__(self, config):\n",
        "        super().__init__()\n",
        "        self.ln1 = nn.LayerNorm(config.n_embd)\n",
        "        self.ln2 = nn.LayerNorm(config.n_embd)\n",
        "\n",
        "        # TODO: Instantiate the MultiHeadSelfAttention module\n",
        "        # self.attn = <TODO>\n",
        "        self.attn = MultiHeadSelfAttention(config)  # Solution\n",
        "\n",
        "        self.mlp = nn.Sequential(\n",
        "            nn.Linear(config.n_embd, 4 * config.n_embd),\n",
        "            nn.GELU(),\n",
        "            nn.Linear(4 * config.n_embd, config.n_embd),\n",
        "            nn.Dropout(config.resid_pdrop),\n",
        "        )\n",
        "\n",
        "    def forward(self, x):\n",
        "        # TODO: implement a residual connection of the following form\n",
        "        # x := x + MultiHeadSelfAttention(LayerNorm(x)) + MLP(LayerNorm(x))\n",
        "\n",
        "        # Hint: MultiHeadSelfAttention, LayerNorm, and MLP were all instantiated in __init__\n",
        "        # and are available as properties of self, e.g. self.attn\n",
        "        # x = <TODO>\n",
        "        x = x + self.attn(self.ln1(x)) + self.mlp(self.ln2(x))  # Solution\n",
        "\n",
        "        return x\n",
        "\n",
        "    # === EXERCISE PART 1 END: CONSTRUCT A TRANSFORMER BLOCK ===\n",
        "\n",
        "\n",
        "# Check that the block instantiates\n",
        "block = Block(config)\n",
        "block"
      ],
      "metadata": {
        "colab": {
          "base_uri": "https://localhost:8080/"
        },
        "id": "vLhbaWaOLhsh",
        "outputId": "a0b32d8c-6e89-445c-ad35-80bdf3dd32c1"
      },
      "execution_count": 2,
      "outputs": [
        {
          "output_type": "execute_result",
          "data": {
            "text/plain": [
              "Block(\n",
              "  (ln1): LayerNorm((12,), eps=1e-05, elementwise_affine=True)\n",
              "  (ln2): LayerNorm((12,), eps=1e-05, elementwise_affine=True)\n",
              "  (attn): MultiHeadSelfAttention(\n",
              "    (key): Linear(in_features=12, out_features=12, bias=True)\n",
              "    (query): Linear(in_features=12, out_features=12, bias=True)\n",
              "    (value): Linear(in_features=12, out_features=12, bias=True)\n",
              "    (attn_drop): Dropout(p=0.1, inplace=False)\n",
              "    (resid_drop): Dropout(p=0.1, inplace=False)\n",
              "    (proj): Linear(in_features=12, out_features=12, bias=True)\n",
              "  )\n",
              "  (mlp): Sequential(\n",
              "    (0): Linear(in_features=12, out_features=48, bias=True)\n",
              "    (1): GELU(approximate='none')\n",
              "    (2): Linear(in_features=48, out_features=12, bias=True)\n",
              "    (3): Dropout(p=0.1, inplace=False)\n",
              "  )\n",
              ")"
            ]
          },
          "metadata": {},
          "execution_count": 2
        }
      ]
    },
    {
      "cell_type": "code",
      "source": [
        "# Let's check some aspects of the block\n",
        "block = Block(config)\n",
        "assert isinstance(block.attn, MultiHeadSelfAttention)"
      ],
      "metadata": {
        "id": "gNpkfxbqLoRm"
      },
      "execution_count": 3,
      "outputs": []
    },
    {
      "cell_type": "markdown",
      "source": [
        "## Step: Let's construct the GPT module\n",
        "It's time to put it all together and make our GPT PyTorch model."
      ],
      "metadata": {
        "id": "4Q9FjWjUL0iq"
      }
    },
    {
      "cell_type": "code",
      "source": [
        "import torch\n",
        "import torch.nn.functional as F\n",
        "\n",
        "\n",
        "class GPT(nn.Module):\n",
        "    \"\"\"the full GPT language model, with a context size of block_size\"\"\"\n",
        "\n",
        "    # === EXERCISE PART 2 START: COMPLETE THE GPT MODEL ===\n",
        "\n",
        "    def __init__(self, config):\n",
        "        super().__init__()\n",
        "\n",
        "        # input embedding stem\n",
        "        self.tok_emb = nn.Embedding(config.vocab_size, config.n_embd)\n",
        "        self.pos_emb = nn.Parameter(torch.zeros(1, config.block_size, config.n_embd))\n",
        "        self.drop = nn.Dropout(config.embd_pdrop)\n",
        "\n",
        "        # transformer\n",
        "        # TODO: Instantiate a sequence of N=config.n_layer transformer blocks.\n",
        "        # Hint: use nn.Sequential to chain N instances of the Block module.\n",
        "        # self.blocks = <TODO>\n",
        "        self.blocks = nn.Sequential(\n",
        "            *[Block(config) for _ in range(config.n_layer)]\n",
        "        )  # Solution\n",
        "\n",
        "        # decoder head\n",
        "        self.ln_f = nn.LayerNorm(config.n_embd)\n",
        "        self.head = nn.Linear(config.n_embd, config.vocab_size, bias=False)\n",
        "\n",
        "        self.block_size = config.block_size\n",
        "        self.apply(self._init_weights)\n",
        "\n",
        "        print(\n",
        "            \"number of parameters: {}\".format(sum(p.numel() for p in self.parameters()))\n",
        "        )\n",
        "\n",
        "    def _init_weights(self, module):\n",
        "        if isinstance(module, (nn.Linear, nn.Embedding)):\n",
        "            module.weight.data.normal_(mean=0.0, std=0.02)\n",
        "            if isinstance(module, nn.Linear) and module.bias is not None:\n",
        "                module.bias.data.zero_()\n",
        "        elif isinstance(module, nn.LayerNorm):\n",
        "            module.bias.data.zero_()\n",
        "            module.weight.data.fill_(1.0)\n",
        "\n",
        "    def get_block_size(self):\n",
        "        return self.block_size\n",
        "\n",
        "    def forward(self, idx, targets=None):\n",
        "        b, t = idx.size()\n",
        "        assert t <= self.block_size, \"Cannot forward, model block size is exhausted.\"\n",
        "\n",
        "        # Create token embeddings and add positional embeddings\n",
        "        token_embeddings = self.tok_emb(idx)  # each index maps to a (learnable) vector\n",
        "        position_embeddings = self.pos_emb[\n",
        "            :, :t, :\n",
        "        ]  # each position maps to a (learnable) vector\n",
        "        x = self.drop(token_embeddings + position_embeddings)\n",
        "\n",
        "        # TODO: Pass the embeddings through the transformer blocks, created previously in __init__\n",
        "        # x = <TODO>\n",
        "        x = self.blocks(x)  # Solution\n",
        "\n",
        "        # Decode the output of the transformer blocks\n",
        "        x = self.ln_f(x)\n",
        "        logits = self.head(x)\n",
        "\n",
        "        # If we are given some desired targets also calculate the loss, e.g. during training\n",
        "        if targets is not None:\n",
        "            loss = F.cross_entropy(\n",
        "                logits.view(-1, logits.size(-1)), targets.view(-1), ignore_index=-1\n",
        "            )\n",
        "        else:\n",
        "            loss = None\n",
        "\n",
        "        return logits, loss\n",
        "\n",
        "    # === EXERCISE PART 2 END: COMPLETE THE GPT MODEL ===\n",
        "\n",
        "    @torch.no_grad()\n",
        "    def generate(\n",
        "        self, idx, max_new_tokens, temperature=1.0, top_k=None, stop_tokens=None\n",
        "    ):\n",
        "        \"\"\"\n",
        "        Take a conditioning sequence of indices idx (LongTensor of shape (b,t)) and complete\n",
        "        the sequence max_new_tokens times, feeding the predictions back into the model each time.\n",
        "        Most likely you'll want to make sure to be in model.eval() mode of operation for this.\n",
        "        \"\"\"\n",
        "\n",
        "        # === EXERCISE PART 3 START: COMPLETE THE GENERATION LOGIC ===\n",
        "        for _ in range(max_new_tokens):\n",
        "            # if the sequence context is growing too long we must crop it at block_size\n",
        "            idx_cond = (\n",
        "                idx if idx.size(1) <= self.block_size else idx[:, -self.block_size :]\n",
        "            )\n",
        "\n",
        "            # forward the model to get the logits for the index in the sequence\n",
        "            logits, _ = self(idx_cond)\n",
        "\n",
        "            # pluck the logits at the final step and scale by desired temperature\n",
        "            logits = logits[:, -1, :] / temperature\n",
        "\n",
        "            # optionally crop the logits to only the top k options\n",
        "            if top_k is not None:\n",
        "                v, _ = torch.topk(logits, top_k)\n",
        "                logits[logits < v[:, [-1]]] = -float(\"Inf\")\n",
        "\n",
        "            # TODO: apply softmax to convert logits to (normalized) probabilities\n",
        "            # using F.softmax. Remember the dim=-1 parameter.\n",
        "            # probs = <TODO>\n",
        "            probs = F.softmax(logits, dim=-1)  # Solution\n",
        "\n",
        "            # TODO: sample from the distribution (if top_k=1 this is equivalent to greedy sampling)\n",
        "            # using torch.multinomial. You only need to sample a single token.\n",
        "            # idx_next = <TODO>\n",
        "            idx_next = torch.multinomial(probs, num_samples=1)  # Solution\n",
        "\n",
        "            # append sampled index to the running sequence and continue\n",
        "            idx = torch.cat((idx, idx_next), dim=1)\n",
        "\n",
        "            # stop prediction if we produced a stop token\n",
        "            if stop_tokens is not None and idx_next.item() in stop_tokens:\n",
        "                return idx\n",
        "        # === EXERCISE PART 3 END: COMPLETE THE GENERATION LOGIC ===\n",
        "\n",
        "        return idx"
      ],
      "metadata": {
        "id": "AD1fo9u2L4RB"
      },
      "execution_count": 4,
      "outputs": []
    },
    {
      "cell_type": "code",
      "source": [
        "# Let's check this model runs real quickly\n",
        "\n",
        "\n",
        "model = GPT(config)\n",
        "input_seq = torch.tensor([[1, 2, 3]])\n",
        "output_seq = model.generate(input_seq, max_new_tokens=30)\n",
        "\n",
        "# Check the generated sequence shape\n",
        "assert output_seq.shape == (1, 33)\n",
        "\n",
        "print(\"input sequence:\", input_seq.tolist()[0])\n",
        "print(\"output sequence:\", output_seq.tolist()[0])\n",
        "\n",
        "print(\"Success!\")"
      ],
      "metadata": {
        "colab": {
          "base_uri": "https://localhost:8080/"
        },
        "id": "h0tnekJpL-IS",
        "outputId": "da445e17-c3aa-4fcf-ca8f-3b491109255d"
      },
      "execution_count": 5,
      "outputs": [
        {
          "output_type": "stream",
          "name": "stdout",
          "text": [
            "number of parameters: 5976\n",
            "input sequence: [1, 2, 3]\n",
            "output sequence: [1, 2, 3, 6, 8, 0, 1, 2, 3, 4, 9, 5, 6, 2, 9, 5, 2, 4, 0, 1, 0, 4, 7, 0, 1, 8, 0, 4, 9, 3, 2, 2, 1]\n",
            "Success!\n"
          ]
        }
      ]
    },
    {
      "cell_type": "markdown",
      "source": [
        "## Step: Load a dataset\n",
        "\n",
        "We will now train our GPT model on a dataset consisting of one- to three-digit addition problems, e.g.\n",
        "\n",
        "```\n",
        "111+222=3+30+300=333\n",
        "```\n",
        "\n",
        "We break the addition up into two steps (first `=3+30+300` and then finally `=333`) to help the model train more quickly and successfully."
      ],
      "metadata": {
        "id": "5mrGz6LWL_tx"
      }
    },
    {
      "cell_type": "code",
      "source": [
        "# Run this cell to create a dataset. No modifications are needed.\n",
        "\n",
        "import numpy as np\n",
        "from common import AdditionDataset, CharacterTokenizer\n",
        "\n",
        "BLOCK_SIZE = 32\n",
        "\n",
        "tokenizer = CharacterTokenizer(\n",
        "    characters=[\"0\", \"1\", \"2\", \"3\", \"4\", \"5\", \"6\", \"7\", \"8\", \"9\", \"+\", \" \", \"=\"],\n",
        "    model_max_length=BLOCK_SIZE,\n",
        ")\n",
        "\n",
        "dataset = AdditionDataset(\n",
        "    tokenizer=tokenizer,\n",
        "    block_size=BLOCK_SIZE,\n",
        "    numbers=list(range(0, 1000, 2)),\n",
        "    include_intermediate_steps=True,\n",
        ")\n",
        "\n",
        "for ix in [11177, 22222]:\n",
        "    x, y = dataset[ix]\n",
        "\n",
        "    print(f\"=== Example {ix} ===\")\n",
        "\n",
        "    np.set_printoptions(linewidth=999)\n",
        "    print(f\"x = {x.numpy()}\")\n",
        "    print(f\"y = {y.numpy()}\")\n",
        "\n",
        "    # show lengths\n",
        "    print(f\"x length = {len(x)}\")\n",
        "    print(f\"y length = {len(y)}\")\n",
        "\n",
        "    # print x decoded\n",
        "    x = tokenizer.decode(x, skip_special_tokens=True)\n",
        "    print(f\"x decoded = {x}\")\n",
        "\n",
        "    # print y decoded, replacing the -1 token with _\n",
        "    num_unknowns = y.tolist().count(-1)\n",
        "    y = tokenizer.decode(y[num_unknowns:], skip_special_tokens=True)\n",
        "    print(f\"y decoded = {'_'*(num_unknowns-1)}{y}\")"
      ],
      "metadata": {
        "colab": {
          "base_uri": "https://localhost:8080/"
        },
        "id": "BoJKCyWiMFMh",
        "outputId": "bb5c04e6-6453-466e-87fc-0fca2d41f28b"
      },
      "execution_count": 6,
      "outputs": [
        {
          "output_type": "stream",
          "name": "stdout",
          "text": [
            "=== Example 11177 ===\n",
            "x = [ 0 11 11 17 10 12 11 19 15 17 16  7 17 10  7  7 19 10 16 15  1  4  4  4  4  4  4  4  4  4  4  4]\n",
            "y = [-1 -1 -1 -1 -1 -1 -1 15 17 16  7 17 10  7  7 19 10 16 15  1  4  4  4  4  4  4  4  4  4  4  4  4]\n",
            "x length = 32\n",
            "y length = 32\n",
            "x decoded = 44+354=8+90+300=398\n",
            "y decoded = ______8+90+300=398\n",
            "=== Example 22222 ===\n",
            "x = [ 0 15 15 17 11 11 11 19  9 17 10  7 17 12  7  7 19 12 10  9  1  4  4  4  4  4  4  4  4  4  4  4]\n",
            "y = [-1 -1 -1 -1 -1 -1 -1  9 17 10  7 17 12  7  7 19 12 10  9  1  4  4  4  4  4  4  4  4  4  4  4  4]\n",
            "x length = 32\n",
            "y length = 32\n",
            "x decoded = 88+444=2+30+500=532\n",
            "y decoded = ______2+30+500=532\n"
          ]
        }
      ]
    },
    {
      "cell_type": "markdown",
      "source": [
        "Let's take a minute to examine our dataset.\n",
        "\n",
        "* What do you notice about the x, the input, and y the target?\n",
        "* Are they the same length?\n",
        "* What can you say about the alignment of the sequences?\n",
        "* What else is different between them?"
      ],
      "metadata": {
        "id": "DEPA2kF8MILJ"
      }
    },
    {
      "cell_type": "markdown",
      "source": [
        "# Step: Train the model!\n",
        "\n",
        "Now we will train a small GPT model using this dataset. Along the way we should see how the model's performance improves on real data."
      ],
      "metadata": {
        "id": "up98USF6MK48"
      }
    },
    {
      "cell_type": "code",
      "source": [
        "# Instantiate the model and a trainer. No modifications are needed.\n",
        "\n",
        "from common import GPTConfig, Trainer, TrainerConfig\n",
        "\n",
        "# instantiate a mini-GPT type model\n",
        "model_config = GPTConfig(\n",
        "    vocab_size=tokenizer.vocab_size,\n",
        "    block_size=BLOCK_SIZE,\n",
        "    n_layer=3,\n",
        "    n_head=3,\n",
        "    n_embd=48,\n",
        ")\n",
        "\n",
        "model = GPT(model_config)\n",
        "\n",
        "# create a trainer\n",
        "train_config = TrainerConfig(\n",
        "    max_epochs=1,\n",
        "    batch_size=1000,\n",
        "    learning_rate=4e-3,\n",
        ")\n",
        "\n",
        "trainer = Trainer(model, dataset, train_config)\n",
        "\n",
        "# Print the device the trainer will use (cpu, gpu, ...)\n",
        "print(f\"Using device: {trainer.device}\")"
      ],
      "metadata": {
        "colab": {
          "base_uri": "https://localhost:8080/"
        },
        "id": "ehVBE-OSMIqH",
        "outputId": "b39f0006-52b0-4358-f177-8d71852ab131"
      },
      "execution_count": 7,
      "outputs": [
        {
          "output_type": "stream",
          "name": "stdout",
          "text": [
            "number of parameters: 88368\n",
            "Using device: 0\n"
          ]
        }
      ]
    },
    {
      "cell_type": "code",
      "source": [
        "# Let's see the performance on real data before training. No modifications are needed.\n",
        "from common import show_examples\n",
        "\n",
        "show_examples(model, dataset, tokenizer, trainer.device, top_k=1, temperature=1.0)"
      ],
      "metadata": {
        "colab": {
          "base_uri": "https://localhost:8080/"
        },
        "id": "yhkENlk_MOhS",
        "outputId": "50fcb176-12e8-4a2f-8dff-8e949013f377"
      },
      "execution_count": 8,
      "outputs": [
        {
          "output_type": "stream",
          "name": "stdout",
          "text": [
            "❌ input->output: [CLS]550+84= 👉 2[UNK][CLS] expected: 634, got: None\n",
            "❌ input->output: [CLS]558+504= 👉 2[CLS] expected: 1062, got: None\n",
            "❌ input->output: [CLS]278+88= 👉 21222121221222522505122221222222 expected: 366, got: None\n",
            "❌ input->output: [CLS]422+740= 👉 21[MASK]212212121 1 0[SEP] expected: 1162, got: None\n",
            "❌ input->output: [CLS]760+660= 👉 [CLS] expected: 1420, got: None\n",
            "❌ input->output: [CLS]256+630= 👉 212[CLS] expected: 886, got: None\n",
            "❌ input->output: [CLS]120+672= 👉 212=217212[CLS] expected: 792, got: 217212\n",
            "❌ input->output: [CLS]94+418= 👉 21 40[UNK][CLS] expected: 512, got: None\n",
            "❌ input->output: [CLS]464+796= 👉 211 40[CLS] expected: 1260, got: None\n",
            "❌ input->output: [CLS]624+106= 👉 21212121212121 40512[CLS] expected: 730, got: None\n",
            "\n",
            "Correct: 0 out of 10: 0.0%\n"
          ]
        }
      ]
    },
    {
      "cell_type": "code",
      "source": [
        "# Let's train the model for an epoch, and see the performance again.\n",
        "# We will repeat this a few times to see the model improve.\n",
        "# No modifications are needed.\n",
        "\n",
        "# Note, depending on your hardware, you may need to reduce the batch size\n",
        "# if you get any out-of-memory errors.\n",
        "\n",
        "for _ in range(6):\n",
        "    trainer.train()  # train just one epoch each time\n",
        "    show_examples(model, dataset, tokenizer, trainer.device, top_k=3, temperature=1.0)"
      ],
      "metadata": {
        "colab": {
          "base_uri": "https://localhost:8080/"
        },
        "id": "GTzkusZ9MRiL",
        "outputId": "5add3097-db20-4201-aff5-084abba2e82c"
      },
      "execution_count": 9,
      "outputs": [
        {
          "output_type": "stream",
          "name": "stderr",
          "text": [
            "epoch 1 iter 249: train loss 0.26805. lr 4.000000e-03: 100%|██████████| 250/250 [01:12<00:00,  3.47it/s]\n"
          ]
        },
        {
          "output_type": "stream",
          "name": "stdout",
          "text": [
            "❌ input->output: [CLS]550+84= 👉 4+80+400=484[SEP] expected: 634, got: 484\n",
            "❌ input->output: [CLS]558+504= 👉 8+50+500+1000=1558[SEP] expected: 1062, got: 1558\n",
            "❌ input->output: [CLS]278+88= 👉 4+60+400=464[SEP] expected: 366, got: 464\n",
            "❌ input->output: [CLS]422+740= 👉 4+90+400+1000=1494[SEP] expected: 1162, got: 1494\n",
            "❌ input->output: [CLS]760+660= 👉 6+60+700+1000=1766[SEP] expected: 1420, got: 1766\n",
            "❌ input->output: [CLS]256+630= 👉 2+60+500=562[SEP] expected: 886, got: 562\n",
            "❌ input->output: [CLS]120+672= 👉 8+70+900=978[SEP] expected: 792, got: 978\n",
            "❌ input->output: [CLS]94+418= 👉 4+60+800=864[SEP] expected: 512, got: 864\n",
            "❌ input->output: [CLS]464+796= 👉 4+40+0+1000=1044[SEP] expected: 1260, got: 1044\n",
            "❌ input->output: [CLS]624+106= 👉 6+0+600=606[SEP] expected: 730, got: 606\n",
            "\n",
            "Correct: 0 out of 10: 0.0%\n"
          ]
        },
        {
          "output_type": "stream",
          "name": "stderr",
          "text": [
            "epoch 1 iter 249: train loss 0.08607. lr 4.000000e-03: 100%|██████████| 250/250 [01:11<00:00,  3.51it/s]\n"
          ]
        },
        {
          "output_type": "stream",
          "name": "stdout",
          "text": [
            "❌ input->output: [CLS]550+84= 👉 4+90+600=694[SEP] expected: 634, got: 694\n",
            "❌ input->output: [CLS]558+504= 👉 2+50+100+1000=1152[SEP] expected: 1062, got: 1152\n",
            "❌ input->output: [CLS]278+88= 👉 6+40+300=346[SEP] expected: 366, got: 346\n",
            "✅ input->output: [CLS]422+740= 👉 2+60+100+1000=1162[SEP]\n",
            "❌ input->output: [CLS]760+660= 👉 0+30+300+1000=1330[SEP] expected: 1420, got: 1330\n",
            "✅ input->output: [CLS]256+630= 👉 6+80+800=886[SEP]\n",
            "✅ input->output: [CLS]120+672= 👉 2+90+700=792[SEP]\n",
            "❌ input->output: [CLS]94+418= 👉 2+90+600=692[SEP] expected: 512, got: 692\n",
            "✅ input->output: [CLS]464+796= 👉 0+60+200+1000=1260[SEP]\n",
            "❌ input->output: [CLS]624+106= 👉 0+30+600=630[SEP] expected: 730, got: 630\n",
            "\n",
            "Correct: 4 out of 10: 40.0%\n"
          ]
        },
        {
          "output_type": "stream",
          "name": "stderr",
          "text": [
            "epoch 1 iter 249: train loss 0.03176. lr 4.000000e-03: 100%|██████████| 250/250 [01:10<00:00,  3.54it/s]\n"
          ]
        },
        {
          "output_type": "stream",
          "name": "stdout",
          "text": [
            "✅ input->output: [CLS]550+84= 👉 4+30+600=634[SEP]\n",
            "❌ input->output: [CLS]558+504= 👉 2+60+100+1000=1162[SEP] expected: 1062, got: 1162\n",
            "❌ input->output: [CLS]278+88= 👉 6+50+300=356[SEP] expected: 366, got: 356\n",
            "✅ input->output: [CLS]422+740= 👉 2+60+100+1000=1162[SEP]\n",
            "❌ input->output: [CLS]760+660= 👉 0+20+300+1000=1320[SEP] expected: 1420, got: 1320\n",
            "✅ input->output: [CLS]256+630= 👉 6+80+800=886[SEP]\n",
            "✅ input->output: [CLS]120+672= 👉 2+90+700=792[SEP]\n",
            "❌ input->output: [CLS]94+418= 👉 2+20+500=522[SEP] expected: 512, got: 522\n",
            "✅ input->output: [CLS]464+796= 👉 0+60+200+1000=1260[SEP]\n",
            "✅ input->output: [CLS]624+106= 👉 0+30+700=730[SEP]\n",
            "\n",
            "Correct: 6 out of 10: 60.0%\n"
          ]
        },
        {
          "output_type": "stream",
          "name": "stderr",
          "text": [
            "epoch 1 iter 249: train loss 0.02162. lr 4.000000e-03: 100%|██████████| 250/250 [01:10<00:00,  3.53it/s]\n"
          ]
        },
        {
          "output_type": "stream",
          "name": "stdout",
          "text": [
            "✅ input->output: [CLS]550+84= 👉 4+30+600=634[SEP]\n",
            "✅ input->output: [CLS]558+504= 👉 2+60+0+1000=1062[SEP]\n",
            "✅ input->output: [CLS]278+88= 👉 6+60+300=366[SEP]\n",
            "✅ input->output: [CLS]422+740= 👉 2+60+100+1000=1162[SEP]\n",
            "✅ input->output: [CLS]760+660= 👉 0+20+400+1000=1420[SEP]\n",
            "✅ input->output: [CLS]256+630= 👉 6+80+800=886[SEP]\n",
            "✅ input->output: [CLS]120+672= 👉 2+90+700=792[SEP]\n",
            "❌ input->output: [CLS]94+418= 👉 2+10+400=412[SEP] expected: 512, got: 412\n",
            "✅ input->output: [CLS]464+796= 👉 0+60+200+1000=1260[SEP]\n",
            "✅ input->output: [CLS]624+106= 👉 0+30+700=730[SEP]\n",
            "\n",
            "Correct: 9 out of 10: 90.0%\n"
          ]
        },
        {
          "output_type": "stream",
          "name": "stderr",
          "text": [
            "epoch 1 iter 249: train loss 0.01458. lr 4.000000e-03: 100%|██████████| 250/250 [01:11<00:00,  3.52it/s]\n"
          ]
        },
        {
          "output_type": "stream",
          "name": "stdout",
          "text": [
            "❌ input->output: [CLS]550+84= 👉 4+10+600=614[SEP] expected: 634, got: 614\n",
            "✅ input->output: [CLS]558+504= 👉 2+60+0+1000=1062[SEP]\n",
            "✅ input->output: [CLS]278+88= 👉 6+60+300=366[SEP]\n",
            "✅ input->output: [CLS]422+740= 👉 2+60+100+1000=1162[SEP]\n",
            "❌ input->output: [CLS]760+660= 👉 0+20+300+1000=1320[SEP] expected: 1420, got: 1320\n",
            "✅ input->output: [CLS]256+630= 👉 6+80+800=886[SEP]\n",
            "✅ input->output: [CLS]120+672= 👉 2+90+700=792[SEP]\n",
            "❌ input->output: [CLS]94+418= 👉 2+0+500=502[SEP] expected: 512, got: 502\n",
            "✅ input->output: [CLS]464+796= 👉 0+60+200+1000=1260[SEP]\n",
            "❌ input->output: [CLS]624+106= 👉 0+30+600=630[SEP] expected: 730, got: 630\n",
            "\n",
            "Correct: 6 out of 10: 60.0%\n"
          ]
        },
        {
          "output_type": "stream",
          "name": "stderr",
          "text": [
            "epoch 1 iter 249: train loss 0.00853. lr 4.000000e-03: 100%|██████████| 250/250 [01:10<00:00,  3.53it/s]\n"
          ]
        },
        {
          "output_type": "stream",
          "name": "stdout",
          "text": [
            "❌ input->output: [CLS]550+84= 👉 4+0+600=604[SEP] expected: 634, got: 604\n",
            "✅ input->output: [CLS]558+504= 👉 2+60+0+1000=1062[SEP]\n",
            "✅ input->output: [CLS]278+88= 👉 6+60+300=366[SEP]\n",
            "✅ input->output: [CLS]422+740= 👉 2+60+100+1000=1162[SEP]\n",
            "✅ input->output: [CLS]760+660= 👉 0+20+400+1000=1420[SEP]\n",
            "✅ input->output: [CLS]256+630= 👉 6+80+800=886[SEP]\n",
            "✅ input->output: [CLS]120+672= 👉 2+90+700=792[SEP]\n",
            "✅ input->output: [CLS]94+418= 👉 2+10+500=512[SEP]\n",
            "✅ input->output: [CLS]464+796= 👉 0+60+200+1000=1260[SEP]\n",
            "✅ input->output: [CLS]624+106= 👉 0+30+700=730[SEP]\n",
            "\n",
            "Correct: 9 out of 10: 90.0%\n"
          ]
        }
      ]
    },
    {
      "cell_type": "code",
      "source": [
        "# Let's evaluate on 30 examples. No modifications are needed.\n",
        "\n",
        "show_examples(\n",
        "    model, dataset, tokenizer, trainer.device, top_k=1, temperature=1.0, max_num=30\n",
        ")"
      ],
      "metadata": {
        "colab": {
          "base_uri": "https://localhost:8080/"
        },
        "id": "FeVuZx1fMhRx",
        "outputId": "3b2d8666-daba-4d3e-bc2c-dfc3e0534d91"
      },
      "execution_count": 10,
      "outputs": [
        {
          "output_type": "stream",
          "name": "stdout",
          "text": [
            "❌ input->output: [CLS]550+84= 👉 4+90+500=594[SEP] expected: 634, got: 594\n",
            "✅ input->output: [CLS]558+504= 👉 2+60+0+1000=1062[SEP]\n",
            "✅ input->output: [CLS]278+88= 👉 6+60+300=366[SEP]\n",
            "✅ input->output: [CLS]422+740= 👉 2+60+100+1000=1162[SEP]\n",
            "✅ input->output: [CLS]760+660= 👉 0+20+400+1000=1420[SEP]\n",
            "✅ input->output: [CLS]256+630= 👉 6+80+800=886[SEP]\n",
            "✅ input->output: [CLS]120+672= 👉 2+90+700=792[SEP]\n",
            "❌ input->output: [CLS]94+418= 👉 2+10+400=412[SEP] expected: 512, got: 412\n",
            "✅ input->output: [CLS]464+796= 👉 0+60+200+1000=1260[SEP]\n",
            "✅ input->output: [CLS]624+106= 👉 0+30+700=730[SEP]\n",
            "✅ input->output: [CLS]72+376= 👉 8+40+400=448[SEP]\n",
            "✅ input->output: [CLS]630+824= 👉 4+50+400+1000=1454[SEP]\n",
            "✅ input->output: [CLS]916+372= 👉 8+80+200+1000=1288[SEP]\n",
            "✅ input->output: [CLS]246+74= 👉 0+20+300=320[SEP]\n",
            "✅ input->output: [CLS]626+158= 👉 4+80+700=784[SEP]\n",
            "✅ input->output: [CLS]414+164= 👉 8+70+500=578[SEP]\n",
            "✅ input->output: [CLS]738+126= 👉 4+60+800=864[SEP]\n",
            "✅ input->output: [CLS]600+60= 👉 0+60+600=660[SEP]\n",
            "✅ input->output: [CLS]470+110= 👉 0+80+500=580[SEP]\n",
            "✅ input->output: [CLS]28+404= 👉 2+30+400=432[SEP]\n",
            "✅ input->output: [CLS]666+658= 👉 4+20+300+1000=1324[SEP]\n",
            "✅ input->output: [CLS]224+492= 👉 6+10+700=716[SEP]\n",
            "✅ input->output: [CLS]390+406= 👉 6+90+700=796[SEP]\n",
            "✅ input->output: [CLS]984+852= 👉 6+30+800+1000=1836[SEP]\n",
            "✅ input->output: [CLS]628+342= 👉 0+70+900=970[SEP]\n",
            "✅ input->output: [CLS]824+726= 👉 0+50+500+1000=1550[SEP]\n",
            "✅ input->output: [CLS]336+830= 👉 6+60+100+1000=1166[SEP]\n",
            "✅ input->output: [CLS]380+294= 👉 4+70+600=674[SEP]\n",
            "✅ input->output: [CLS]78+574= 👉 2+50+600=652[SEP]\n",
            "✅ input->output: [CLS]42+280= 👉 2+20+300=322[SEP]\n",
            "\n",
            "Correct: 28 out of 30: 93.3%\n"
          ]
        }
      ]
    }
  ]
}